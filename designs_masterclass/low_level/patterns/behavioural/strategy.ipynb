{
 "cells": [
  {
   "cell_type": "markdown",
   "id": "edcfc0e3",
   "metadata": {},
   "source": [
    "# Strategy Design Patterns\n",
    "1. Analogy + Definition\n",
    "razorpay payment provider PSP\n",
    "UPI\n",
    "Card wallet net banking\n",
    "\n",
    "paymnet process is the same\n",
    "but how it's done changes\n",
    "1. defined family of algos\n",
    "2. encaps each\n",
    "3. interchangeable\n",
    "\n",
    "algo vary independently"
   ]
  }
 ],
 "metadata": {
  "language_info": {
   "name": "python"
  }
 },
 "nbformat": 4,
 "nbformat_minor": 5
}
