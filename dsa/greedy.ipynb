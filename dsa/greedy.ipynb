{
 "cells": [
  {
   "cell_type": "markdown",
   "id": "8d66888e",
   "metadata": {},
   "source": [
    "## Fractional Knapsack (Maximize)\n",
    "#### 0/1-Fractional\n",
    "\n",
    "* Remember Knapsack are of two classifications \n",
    "    * 0/1 Bounded Unbounded\n",
    "\n",
    "    * Fractional Integer\n",
    "* "
   ]
  },
  {
   "cell_type": "markdown",
   "id": "63dc3f9a",
   "metadata": {},
   "source": [
    "## Job Sequencing (Maximize)"
   ]
  },
  {
   "cell_type": "markdown",
   "id": "3204a68c",
   "metadata": {},
   "source": [
    "## M meetings in one Room (Maximize)\n",
    "\n",
    "*Concept:*\n",
    "* [GFG link](https://www.geeksforgeeks.org/reverse-a-linked-list/)\n",
    "* [YT video](https://www.youtube.com/watch?v=iRtLEoL-r-g&list=PLgUwDviBIf0p4ozDR_kJJkONnb1wdx2Ma&index=26)\n",
    "\n",
    "*Problem:*\n",
    "* [Hacker Rank](https://www.hackerrank.com/challenges/reverse-a-linked-list/problem)\n",
    "\n",
    "*Example:*\n",
    "\n",
    "Input: Head of following linked list\n",
    "`1->2->3->4->NULL`\n",
    "\n",
    "Output: Linked list should be changed to, \n",
    "`4->3->2->1->NULL`\n"
   ]
  },
  {
   "cell_type": "markdown",
   "id": "6faae4e3",
   "metadata": {},
   "source": [
    "## Minimum Platforms (Minimize)"
   ]
  },
  {
   "cell_type": "markdown",
   "id": "b01930d9",
   "metadata": {},
   "source": [
    "## Minimum Coins (Minimize)"
   ]
  }
 ],
 "metadata": {
  "kernelspec": {
   "display_name": "Python 3 (ipykernel)",
   "language": "python",
   "name": "python3"
  },
  "language_info": {
   "codemirror_mode": {
    "name": "ipython",
    "version": 3
   },
   "file_extension": ".py",
   "mimetype": "text/x-python",
   "name": "python",
   "nbconvert_exporter": "python",
   "pygments_lexer": "ipython3",
   "version": "3.9.6"
  }
 },
 "nbformat": 4,
 "nbformat_minor": 5
}
