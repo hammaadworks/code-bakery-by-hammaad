{
 "cells": [
  {
   "cell_type": "markdown",
   "id": "43b9898e",
   "metadata": {},
   "source": [
    "## Basic\n",
    "1. BFS  \n",
    "2. Level Order  \n",
    "3. DFS  \n",
    "4. Preorder Recursive  \n",
    "5. Preorder Iterative  \n",
    "6. Inorder Recursive  \n",
    "7. Inorder Iterative  \n",
    "8. Postorder Recursive  \n",
    "9. Postorder Iterative (2 Stacks)  \n",
    "10. Postorder Iterative (1 Stack)  \n",
    "11. All DFS Traversals in One Go  \n",
    "\n",
    "## Creative\n",
    "12. Zig Zag Traversal  \n",
    "13. Boundary Traversal  \n",
    "14. Vertical Order Traversal  \n",
    "15. Top View Traversal  \n",
    "16. Bottom View Traversal  \n",
    "17. Right View Traversal  \n",
    "18. Left View Traversal  \n",
    "19. Morris Traversal  \n",
    "\n",
    "## Construct\n",
    "20. Pre Post = Not Unique  \n",
    "21. Pre In = Unique  \n",
    "22. In Post = Unique  \n",
    "23. LCA BT  \n",
    "24. LCA BST  \n",
    "\n",
    "## Cycle\n",
    "25. Cycle in Undirected BFS  \n",
    "26. Cycle in Directed BFS  \n",
    "27. Cycle in Undirected DFS  \n",
    "28. Cycle in Directed DFS  \n",
    "29. Bipartite Odd Cycle BFS  \n",
    "30. Bipartite Odd Cycle DFS  \n"
   ]
  }
 ],
 "metadata": {
  "language_info": {
   "name": "python"
  }
 },
 "nbformat": 4,
 "nbformat_minor": 5
}
