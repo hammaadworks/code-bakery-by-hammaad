{
 "cells": [
  {
   "cell_type": "markdown",
   "id": "8f8a6af3",
   "metadata": {},
   "source": [
    "## Sorting\n",
    "\n",
    "1. Selection Sort  \n",
    "2. Insertion Sort  \n",
    "3. Bubble Sort  \n",
    "4. Bubble Sort Recursive  \n",
    "5. Merge Sort  \n",
    "6. Quick Sort  \n",
    "7. Tim Sort  \n",
    "8. Topological Sort DFS  \n",
    "9. Topological Sort BFS (Kahn’s Algorithm)"
   ]
  },
  {
   "cell_type": "markdown",
   "id": "f67f8383",
   "metadata": {},
   "source": [
    "\n",
    "1. Selection Sort: the min is selected and placed at the first position by swapping \n",
    "\n",
    " Algo\n",
    " - Select min\n",
    " - swap\n",
    " - move ahead\n",
    "\n",
    " 2. Insertion Sort: the new element is inserted into the correct position by left shifting\n",
    "\n",
    " Algo\n",
    " - expand the frame\n",
    " - left shift to insert it to the correct position\n",
    "\n",
    " 3. Bubble Sort: the largest element is bubbled to the last position by continous swapping\n",
    "\n",
    " Algo\n",
    " - Compare two elements\n",
    " - Bubble the bigger one to the right"
   ]
  },
  {
   "cell_type": "code",
   "execution_count": null,
   "id": "9451cd75",
   "metadata": {},
   "outputs": [
    {
     "name": "stdout",
     "output_type": "stream",
     "text": [
      "[0, 1, 1, 2, 3, 4]\n"
     ]
    }
   ],
   "source": [
    "def select_min_index(arr, start):\n",
    "  # it is the same as\n",
    "  # min(placeholder, key=lambda placeholder value:actual compare value)\n",
    "  # return min(range(start, len(nums)), key=lambda i: nums[i])\n",
    "  min_index = start\n",
    "  for index in range(start+1, len(arr)):\n",
    "    # start + 1 makes sense coz you dont wanna compare the same element right\n",
    "    if arr[min_index] > arr[index]:\n",
    "      min_index = index\n",
    "  return min_index\n",
    "\n",
    "  \n",
    "def selection_sort(arr):\n",
    "  '''\n",
    "  this is a 3 step process\n",
    "  1. select min\n",
    "  2. swap\n",
    "  3. move ahead\n",
    "  '''\n",
    "  for zipper in range(0, len(arr)):\n",
    "    # select the min index\n",
    "    min_index = select_min_index(arr, zipper)\n",
    "    # swap zipper element\n",
    "    arr[min_index], arr[zipper] = arr[zipper], arr[min_index]\n",
    "    # zipper moves ahead in the next iteration\n",
    "  return arr\n",
    "    \n",
    "sorted_arr = selection_sort([1,2,4,0,3,1])\n",
    "print(sorted_arr)"
   ]
  },
  {
   "cell_type": "markdown",
   "id": "81be1ce2",
   "metadata": {},
   "source": [
    "Merging two lists in sorted manner\n",
    "A  B  C\n",
    "\n",
    "Stable - Merge + Insertion + Bubble\n",
    "Merge Sort supports\n",
    "Large data\n",
    "Linked Lists\n",
    "External Sorting - Sorting files in chuncks/blocks\n",
    "Stable - order of duplicates is maintained\n",
    "\n",
    "!Merge Sort\n",
    "Not In-Place - extra space for sorting\n",
    "Not good for small dataset ; n<=15  ==> Insertion Sort\n",
    "Recursion Stack space log n + Auxillary space n (for not in space sorting)\n"
   ]
  },
  {
   "cell_type": "markdown",
   "id": "643a3c88",
   "metadata": {},
   "source": []
  },
  {
   "cell_type": "code",
   "execution_count": 18,
   "id": "45c05e13",
   "metadata": {},
   "outputs": [
    {
     "name": "stdout",
     "output_type": "stream",
     "text": [
      "[1, 2, 3, 5, 10, 19, 28]\n"
     ]
    }
   ],
   "source": [
    "def merge_two_lists(A,B):\n",
    "    i=j=k=0\n",
    "    C=[]\n",
    "    while i<len(A) and j<len(B):\n",
    "        if A[i]<=B[j]:\n",
    "            C.append(A[i])\n",
    "            i+=1\n",
    "        else:\n",
    "            C.append(B[j])\n",
    "            j+=1\n",
    "    C.extend(A[i:])\n",
    "    C.extend(B[j:])\n",
    "    return C\n",
    "\n",
    "if __name__==\"__main__\":\n",
    "    A=[2,3,5]\n",
    "    B=[1,10,19,28]\n",
    "    print(merge_two_lists(A,B))"
   ]
  },
  {
   "cell_type": "markdown",
   "id": "d4951996",
   "metadata": {},
   "source": [
    "Divide and Conquer Algorithm for sort\n",
    "Merge Sort = *O(nlogn)*"
   ]
  },
  {
   "cell_type": "code",
   "execution_count": 16,
   "id": "0fb0efaf",
   "metadata": {},
   "outputs": [
    {
     "ename": "IndentationError",
     "evalue": "unexpected indent (Temp/ipykernel_8628/2628128171.py, line 3)",
     "output_type": "error",
     "traceback": [
      "\u001b[1;36m  File \u001b[1;32m\"C:\\Users\\OURPC~1\\AppData\\Local\\Temp/ipykernel_8628/2628128171.py\"\u001b[1;36m, line \u001b[1;32m3\u001b[0m\n\u001b[1;33m    a = A[low:mid]\u001b[0m\n\u001b[1;37m    ^\u001b[0m\n\u001b[1;31mIndentationError\u001b[0m\u001b[1;31m:\u001b[0m unexpected indent\n"
     ]
    }
   ],
   "source": [
    "def merge(A,low,mid,high):\n",
    "    # A[i]<=Bf[j] \n",
    "    a = A[low:mid]\n",
    "    b = A[mid:high]\n",
    "    return merge_two_lists(a,b)"
   ]
  },
  {
   "cell_type": "code",
   "execution_count": 15,
   "id": "3d9bd80a",
   "metadata": {},
   "outputs": [
    {
     "ename": "TypeError",
     "evalue": "object of type 'NoneType' has no len()",
     "output_type": "error",
     "traceback": [
      "\u001b[1;31m---------------------------------------------------------------------------\u001b[0m",
      "\u001b[1;31mTypeError\u001b[0m                                 Traceback (most recent call last)",
      "\u001b[1;32mC:\\Users\\OURPC~1\\AppData\\Local\\Temp/ipykernel_8628/96037257.py\u001b[0m in \u001b[0;36m<module>\u001b[1;34m\u001b[0m\n\u001b[0;32m      8\u001b[0m \u001b[1;33m\u001b[0m\u001b[0m\n\u001b[0;32m      9\u001b[0m \u001b[0ma\u001b[0m\u001b[1;33m=\u001b[0m\u001b[1;33m[\u001b[0m\u001b[1;36m1\u001b[0m\u001b[1;33m,\u001b[0m\u001b[1;36m4\u001b[0m\u001b[1;33m,\u001b[0m\u001b[1;36m6\u001b[0m\u001b[1;33m,\u001b[0m\u001b[1;36m2\u001b[0m\u001b[1;33m,\u001b[0m\u001b[1;36m8\u001b[0m\u001b[1;33m,\u001b[0m\u001b[1;36m4\u001b[0m\u001b[1;33m,\u001b[0m\u001b[1;36m9\u001b[0m\u001b[1;33m,\u001b[0m\u001b[1;36m12\u001b[0m\u001b[1;33m,\u001b[0m\u001b[1;36m100\u001b[0m\u001b[1;33m,\u001b[0m\u001b[1;36m3\u001b[0m\u001b[1;33m]\u001b[0m\u001b[1;33m\u001b[0m\u001b[1;33m\u001b[0m\u001b[0m\n\u001b[1;32m---> 10\u001b[1;33m \u001b[0mprint\u001b[0m\u001b[1;33m(\u001b[0m\u001b[0mmzort\u001b[0m\u001b[1;33m(\u001b[0m\u001b[0ma\u001b[0m\u001b[1;33m)\u001b[0m\u001b[1;33m)\u001b[0m\u001b[1;33m\u001b[0m\u001b[1;33m\u001b[0m\u001b[0m\n\u001b[0m",
      "\u001b[1;32mC:\\Users\\OURPC~1\\AppData\\Local\\Temp/ipykernel_8628/96037257.py\u001b[0m in \u001b[0;36mmzort\u001b[1;34m(A)\u001b[0m\n\u001b[0;32m      3\u001b[0m     \u001b[1;32mif\u001b[0m \u001b[0mlen\u001b[0m\u001b[1;33m(\u001b[0m\u001b[0mA\u001b[0m\u001b[1;33m)\u001b[0m\u001b[1;33m>\u001b[0m\u001b[1;36m1\u001b[0m\u001b[1;33m:\u001b[0m\u001b[1;33m\u001b[0m\u001b[1;33m\u001b[0m\u001b[0m\n\u001b[0;32m      4\u001b[0m         \u001b[0mmid\u001b[0m\u001b[1;33m=\u001b[0m\u001b[0mlen\u001b[0m\u001b[1;33m(\u001b[0m\u001b[0mA\u001b[0m\u001b[1;33m)\u001b[0m\u001b[1;33m//\u001b[0m\u001b[1;36m2\u001b[0m\u001b[1;33m\u001b[0m\u001b[1;33m\u001b[0m\u001b[0m\n\u001b[1;32m----> 5\u001b[1;33m         \u001b[0ml\u001b[0m\u001b[1;33m=\u001b[0m\u001b[0mmzort\u001b[0m\u001b[1;33m(\u001b[0m\u001b[0mA\u001b[0m\u001b[1;33m[\u001b[0m\u001b[1;33m:\u001b[0m\u001b[0mmid\u001b[0m\u001b[1;33m]\u001b[0m\u001b[1;33m)\u001b[0m\u001b[1;33m\u001b[0m\u001b[1;33m\u001b[0m\u001b[0m\n\u001b[0m\u001b[0;32m      6\u001b[0m         \u001b[0mr\u001b[0m\u001b[1;33m=\u001b[0m\u001b[0mmzort\u001b[0m\u001b[1;33m(\u001b[0m\u001b[0mA\u001b[0m\u001b[1;33m[\u001b[0m\u001b[0mmid\u001b[0m\u001b[1;33m:\u001b[0m\u001b[1;33m]\u001b[0m\u001b[1;33m)\u001b[0m\u001b[1;33m\u001b[0m\u001b[1;33m\u001b[0m\u001b[0m\n\u001b[0;32m      7\u001b[0m         \u001b[0mmerge\u001b[0m\u001b[1;33m(\u001b[0m\u001b[0ml\u001b[0m\u001b[1;33m,\u001b[0m\u001b[0mr\u001b[0m\u001b[1;33m)\u001b[0m\u001b[1;33m\u001b[0m\u001b[1;33m\u001b[0m\u001b[0m\n",
      "\u001b[1;32mC:\\Users\\OURPC~1\\AppData\\Local\\Temp/ipykernel_8628/96037257.py\u001b[0m in \u001b[0;36mmzort\u001b[1;34m(A)\u001b[0m\n\u001b[0;32m      3\u001b[0m     \u001b[1;32mif\u001b[0m \u001b[0mlen\u001b[0m\u001b[1;33m(\u001b[0m\u001b[0mA\u001b[0m\u001b[1;33m)\u001b[0m\u001b[1;33m>\u001b[0m\u001b[1;36m1\u001b[0m\u001b[1;33m:\u001b[0m\u001b[1;33m\u001b[0m\u001b[1;33m\u001b[0m\u001b[0m\n\u001b[0;32m      4\u001b[0m         \u001b[0mmid\u001b[0m\u001b[1;33m=\u001b[0m\u001b[0mlen\u001b[0m\u001b[1;33m(\u001b[0m\u001b[0mA\u001b[0m\u001b[1;33m)\u001b[0m\u001b[1;33m//\u001b[0m\u001b[1;36m2\u001b[0m\u001b[1;33m\u001b[0m\u001b[1;33m\u001b[0m\u001b[0m\n\u001b[1;32m----> 5\u001b[1;33m         \u001b[0ml\u001b[0m\u001b[1;33m=\u001b[0m\u001b[0mmzort\u001b[0m\u001b[1;33m(\u001b[0m\u001b[0mA\u001b[0m\u001b[1;33m[\u001b[0m\u001b[1;33m:\u001b[0m\u001b[0mmid\u001b[0m\u001b[1;33m]\u001b[0m\u001b[1;33m)\u001b[0m\u001b[1;33m\u001b[0m\u001b[1;33m\u001b[0m\u001b[0m\n\u001b[0m\u001b[0;32m      6\u001b[0m         \u001b[0mr\u001b[0m\u001b[1;33m=\u001b[0m\u001b[0mmzort\u001b[0m\u001b[1;33m(\u001b[0m\u001b[0mA\u001b[0m\u001b[1;33m[\u001b[0m\u001b[0mmid\u001b[0m\u001b[1;33m:\u001b[0m\u001b[1;33m]\u001b[0m\u001b[1;33m)\u001b[0m\u001b[1;33m\u001b[0m\u001b[1;33m\u001b[0m\u001b[0m\n\u001b[0;32m      7\u001b[0m         \u001b[0mmerge\u001b[0m\u001b[1;33m(\u001b[0m\u001b[0ml\u001b[0m\u001b[1;33m,\u001b[0m\u001b[0mr\u001b[0m\u001b[1;33m)\u001b[0m\u001b[1;33m\u001b[0m\u001b[1;33m\u001b[0m\u001b[0m\n",
      "\u001b[1;32mC:\\Users\\OURPC~1\\AppData\\Local\\Temp/ipykernel_8628/96037257.py\u001b[0m in \u001b[0;36mmzort\u001b[1;34m(A)\u001b[0m\n\u001b[0;32m      5\u001b[0m         \u001b[0ml\u001b[0m\u001b[1;33m=\u001b[0m\u001b[0mmzort\u001b[0m\u001b[1;33m(\u001b[0m\u001b[0mA\u001b[0m\u001b[1;33m[\u001b[0m\u001b[1;33m:\u001b[0m\u001b[0mmid\u001b[0m\u001b[1;33m]\u001b[0m\u001b[1;33m)\u001b[0m\u001b[1;33m\u001b[0m\u001b[1;33m\u001b[0m\u001b[0m\n\u001b[0;32m      6\u001b[0m         \u001b[0mr\u001b[0m\u001b[1;33m=\u001b[0m\u001b[0mmzort\u001b[0m\u001b[1;33m(\u001b[0m\u001b[0mA\u001b[0m\u001b[1;33m[\u001b[0m\u001b[0mmid\u001b[0m\u001b[1;33m:\u001b[0m\u001b[1;33m]\u001b[0m\u001b[1;33m)\u001b[0m\u001b[1;33m\u001b[0m\u001b[1;33m\u001b[0m\u001b[0m\n\u001b[1;32m----> 7\u001b[1;33m         \u001b[0mmerge\u001b[0m\u001b[1;33m(\u001b[0m\u001b[0ml\u001b[0m\u001b[1;33m,\u001b[0m\u001b[0mr\u001b[0m\u001b[1;33m)\u001b[0m\u001b[1;33m\u001b[0m\u001b[1;33m\u001b[0m\u001b[0m\n\u001b[0m\u001b[0;32m      8\u001b[0m \u001b[1;33m\u001b[0m\u001b[0m\n\u001b[0;32m      9\u001b[0m \u001b[0ma\u001b[0m\u001b[1;33m=\u001b[0m\u001b[1;33m[\u001b[0m\u001b[1;36m1\u001b[0m\u001b[1;33m,\u001b[0m\u001b[1;36m4\u001b[0m\u001b[1;33m,\u001b[0m\u001b[1;36m6\u001b[0m\u001b[1;33m,\u001b[0m\u001b[1;36m2\u001b[0m\u001b[1;33m,\u001b[0m\u001b[1;36m8\u001b[0m\u001b[1;33m,\u001b[0m\u001b[1;36m4\u001b[0m\u001b[1;33m,\u001b[0m\u001b[1;36m9\u001b[0m\u001b[1;33m,\u001b[0m\u001b[1;36m12\u001b[0m\u001b[1;33m,\u001b[0m\u001b[1;36m100\u001b[0m\u001b[1;33m,\u001b[0m\u001b[1;36m3\u001b[0m\u001b[1;33m]\u001b[0m\u001b[1;33m\u001b[0m\u001b[1;33m\u001b[0m\u001b[0m\n",
      "\u001b[1;32mC:\\Users\\OURPC~1\\AppData\\Local\\Temp/ipykernel_8628/389591883.py\u001b[0m in \u001b[0;36mmerge\u001b[1;34m(A, B)\u001b[0m\n\u001b[0;32m      2\u001b[0m     \u001b[0mi\u001b[0m\u001b[1;33m=\u001b[0m\u001b[0mj\u001b[0m\u001b[1;33m=\u001b[0m\u001b[0mk\u001b[0m\u001b[1;33m=\u001b[0m\u001b[1;36m0\u001b[0m\u001b[1;33m\u001b[0m\u001b[1;33m\u001b[0m\u001b[0m\n\u001b[0;32m      3\u001b[0m     \u001b[0mC\u001b[0m\u001b[1;33m=\u001b[0m\u001b[1;33m[\u001b[0m\u001b[1;33m]\u001b[0m\u001b[1;33m\u001b[0m\u001b[1;33m\u001b[0m\u001b[0m\n\u001b[1;32m----> 4\u001b[1;33m     \u001b[1;32mwhile\u001b[0m \u001b[0mi\u001b[0m\u001b[1;33m<\u001b[0m\u001b[0mlen\u001b[0m\u001b[1;33m(\u001b[0m\u001b[0mA\u001b[0m\u001b[1;33m)\u001b[0m \u001b[1;32mand\u001b[0m \u001b[0mj\u001b[0m\u001b[1;33m<\u001b[0m\u001b[0mlen\u001b[0m\u001b[1;33m(\u001b[0m\u001b[0mB\u001b[0m\u001b[1;33m)\u001b[0m\u001b[1;33m:\u001b[0m\u001b[1;33m\u001b[0m\u001b[1;33m\u001b[0m\u001b[0m\n\u001b[0m\u001b[0;32m      5\u001b[0m         \u001b[1;32mif\u001b[0m \u001b[0mA\u001b[0m\u001b[1;33m[\u001b[0m\u001b[0mi\u001b[0m\u001b[1;33m]\u001b[0m\u001b[1;33m<=\u001b[0m\u001b[0mB\u001b[0m\u001b[1;33m[\u001b[0m\u001b[0mj\u001b[0m\u001b[1;33m]\u001b[0m\u001b[1;33m:\u001b[0m\u001b[1;33m\u001b[0m\u001b[1;33m\u001b[0m\u001b[0m\n\u001b[0;32m      6\u001b[0m             \u001b[0mC\u001b[0m\u001b[1;33m.\u001b[0m\u001b[0mappend\u001b[0m\u001b[1;33m(\u001b[0m\u001b[0mA\u001b[0m\u001b[1;33m[\u001b[0m\u001b[0mi\u001b[0m\u001b[1;33m]\u001b[0m\u001b[1;33m)\u001b[0m\u001b[1;33m\u001b[0m\u001b[1;33m\u001b[0m\u001b[0m\n",
      "\u001b[1;31mTypeError\u001b[0m: object of type 'NoneType' has no len()"
     ]
    }
   ],
   "source": [
    "def merge_sort(A,l,h):\n",
    "    if l<h:\n",
    "        mid=len(A)//2\n",
    "        mzort(A,l,mid)\n",
    "        mzort(A,mid+1,high)\n",
    "        merge(A,l,m,h)\n",
    "\n",
    "a=[1,4,6,2,8,4,9,12,100,3]\n",
    "print(merge_sort(a))"
   ]
  },
  {
   "cell_type": "code",
   "execution_count": 14,
   "id": "f7ec2db5",
   "metadata": {},
   "outputs": [],
   "source": [
    "def mtl(A,B):\n",
    "    i=j=k=0\n",
    "    C=[]\n",
    "    while i<len(A) and j<len(B):\n",
    "        if A[i]<=B[j]:\n",
    "            C.append(A[i])\n",
    "            i+=1\n",
    "        else:\n",
    "            C.append(B[j])\n",
    "            j+=1\n",
    "  # copy remaining elem\n",
    "    C.extend(A[i:])\n",
    "    C.extend(B[j:])"
   ]
  },
  {
   "cell_type": "code",
   "execution_count": 55,
   "id": "06f50d89",
   "metadata": {},
   "outputs": [],
   "source": [
    "def merge(A,l,m,h):\n",
    "    #Copy\n",
    "    J = A[l:m]\n",
    "    K = A[m:h]\n",
    "    \n",
    "    i=j=0\n",
    "    k=l\n",
    "    C=[]\n",
    "    while i<len(J) and j<len(K):\n",
    "        if J[i]<=K[j]:\n",
    "            C.append(J[i])\n",
    "            i+=1\n",
    "        else:\n",
    "            C.append(K[j])\n",
    "            j+=1\n",
    "  # copy remaining elem\n",
    "    C.extend(J[i:])\n",
    "    C.extend(K[j:])\n",
    "    A.clear()\n",
    "    for elem in C:\n",
    "        A.append(elem)"
   ]
  },
  {
   "cell_type": "code",
   "execution_count": 56,
   "id": "d657355d",
   "metadata": {},
   "outputs": [],
   "source": [
    "def divide(A,l,h):\n",
    "    if (l<h):\n",
    "        mid=(l+h)//2\n",
    "        divide(A,l,mid)\n",
    "        divide(A,mid+1,h)\n",
    "        merge(A,l,mid,h)\n",
    "#     return A"
   ]
  },
  {
   "cell_type": "code",
   "execution_count": 57,
   "id": "982c0528",
   "metadata": {},
   "outputs": [
    {
     "name": "stdout",
     "output_type": "stream",
     "text": [
      "None\n"
     ]
    }
   ],
   "source": [
    "if __name__==\"__main__\":\n",
    "    A = [5,4,3,2,1]\n",
    "    b = divide(A,0,len(A)-1)\n",
    "    print(b)"
   ]
  },
  {
   "cell_type": "code",
   "execution_count": 43,
   "id": "48e491d4",
   "metadata": {},
   "outputs": [
    {
     "name": "stdout",
     "output_type": "stream",
     "text": [
      "10 10\n"
     ]
    }
   ],
   "source": [
    "def swap(a,b):\n",
    "    a+=5\n",
    "    return a,b\n",
    "a=5\n",
    "b=10\n",
    "a,b=swap(a,b)\n",
    "print(a,b)\n",
    "    \n",
    "    "
   ]
  },
  {
   "cell_type": "code",
   "execution_count": null,
   "id": "6aa1b560",
   "metadata": {},
   "outputs": [],
   "source": []
  },
  {
   "cell_type": "markdown",
   "id": "e1923ebe",
   "metadata": {},
   "source": [
    "# 6. Quick Sort\n",
    "\n",
    "Divide and Conquer with the idea of pivot where\n",
    "- All elements smaller to pivot are on it's left, and\n",
    "- All elements larger to pivot are on it's right\n",
    "\n",
    "Pivot Choice\n",
    "- First element: Possibility of O(n^2) worst case if already sorted\n",
    "- Last element: Possibility of O(n^2) worst case if already sorted\n",
    "- Middle/Median element: \n",
    "  - Average case O(n log n)\n",
    "  - Finding true median takes O(n). It's expensive so it becomes O(n^2 log n)\n",
    "  - Instead take the median of first, middle and last.\n",
    "  - This way it's O(1) and easy. It's called the `median of three` strategy.\n",
    "- Random element: Average case O(n log n)\n",
    "\n",
    "Time Complexity\n",
    "- Best/Average Case\n",
    "  1. List gets divided (partitioned) into halves ` n -> n/2 `\n",
    "  2. It gets divided until there is just 1 element left\n",
    "    ```python\n",
    "    n/2/2/2/2.../2 = 1\n",
    "    n/2 ^ h = 1 \n",
    "    # h is the height of the recursion tree\n",
    "    # aka the number of times the list is divided to get just 1 element\n",
    "    n = 2 ^ h\n",
    "    h = log base2 n\n",
    "    h = log n\n",
    "    ```\n",
    "  3. The partitioning algorithm runs for every element of the list\n",
    "  Therefore it is `O(n log n)`\n",
    "\n",
    "- Worst Case\n",
    "  1. If the list is already sorted and we choose the first/last element as pivoting strategy\n",
    "  2. The pivot remains in the same position leading to skewed partition aka `skewed recursion tree`\n",
    "  3. Hence for each partition we get elements\n",
    "  ```\n",
    "  Partition 1 : n\n",
    "  Partition 2 : n - 1\n",
    "  Partition 3 : n - 2\n",
    "  ...\n",
    "  Partition h : n - 4\n",
    "  TC = n + n-1 + n-2 + ... + 1\n",
    "  TC = n(n-1)/2\n",
    "  ```\n",
    "  Therefore it is `O(n ^ 2)`\n",
    "\n",
    "Space Complexity\n",
    "  - Best/Average Case : height of the recursion tree `O(log n)`\n",
    "  - Worst Case : height of the `skewed` recursion tree `O(n)`\n",
    "\n",
    "Sort Analysis\n",
    "  - Inplace: no extra memory is required\n",
    "  - Unstable: equal may not maintain their order\n",
    "\n",
    "\n",
    "Pseudocode\n",
    "```python\n",
    "quick_sort(start, end):\n",
    "  pivot = place_pivot(start, end)\n",
    "  quick_sort(start, pivot-1)\n",
    "  quick_sort(pivot+1, end)  \n",
    "```\n"
   ]
  },
  {
   "cell_type": "code",
   "execution_count": 2,
   "id": "fdc4f135",
   "metadata": {},
   "outputs": [
    {
     "name": "stdout",
     "output_type": "stream",
     "text": [
      "[1, 1, 3, 4, 5, 7, 8]\n"
     ]
    }
   ],
   "source": [
    "def get_median_of_three(nums, start, end):\n",
    "  middle = (start + end) // 2\n",
    "  if (nums[start] <= nums[middle] <= nums[end]) or (nums[start] >= nums[middle] >= nums[end]):\n",
    "    return middle\n",
    "  elif (nums[middle] <= nums[start] <= nums[end]) or (nums[middle] >= nums[start] >= nums[end]):\n",
    "    return start\n",
    "  else:\n",
    "    return end\n",
    "  \n",
    "def place_pivot_median(nums, start, end):\n",
    "  pivot = get_median_of_three(nums, start, end)\n",
    "  # move pivot to the end and apply the same place pivot algorithm\n",
    "  nums[pivot], nums[end] = nums[end], nums[pivot]\n",
    "  pivot  = place_pivot_last(nums, start, end)\n",
    "  return pivot\n",
    "\n",
    "def place_pivot_last(nums, start, end):\n",
    "  # last as pivot\n",
    "  pivot = end\n",
    "  small_boundary = start - 1\n",
    "  # compare the pivot and checker and update the small_boundary\n",
    "  for checker in range(start, end):\n",
    "    if nums[checker] <= nums[pivot]:\n",
    "      small_boundary += 1\n",
    "      nums[small_boundary], nums[checker] = nums[checker], nums[small_boundary]\n",
    "  # place the pivot\n",
    "  pivot = small_boundary + 1\n",
    "  nums[pivot], nums[end] = nums[end], nums[pivot]\n",
    "  return pivot\n",
    "  \n",
    "def quick_sort(nums, start, end):\n",
    "  # don't do sorting for 1 element or invalid config\n",
    "  if start < end:\n",
    "    pivot = place_pivot_last(nums, start, end)\n",
    "    quick_sort(nums, start, pivot-1)\n",
    "    quick_sort(nums, pivot+1, end)\n",
    "\n",
    "def sort_this(nums):\n",
    "  quick_sort(nums, 0, len(nums)-1)\n",
    "  return nums\n",
    "\n",
    "print(sort_this([3,1,5,1,7,8,4]))"
   ]
  }
 ],
 "metadata": {
  "kernelspec": {
   "display_name": ".venv",
   "language": "python",
   "name": "python3"
  },
  "language_info": {
   "codemirror_mode": {
    "name": "ipython",
    "version": 3
   },
   "file_extension": ".py",
   "mimetype": "text/x-python",
   "name": "python",
   "nbconvert_exporter": "python",
   "pygments_lexer": "ipython3",
   "version": "3.13.5"
  }
 },
 "nbformat": 4,
 "nbformat_minor": 5
}
