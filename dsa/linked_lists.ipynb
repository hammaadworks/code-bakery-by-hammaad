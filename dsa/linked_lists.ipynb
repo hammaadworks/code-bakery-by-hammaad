{
 "cells": [
  {
   "cell_type": "markdown",
   "id": "71b1246c",
   "metadata": {},
   "source": [
    "# Linked Lists\n",
    "\n",
    "**Array v Linked List**\n",
    "`Access, Storage, Search, Memory Allocation, Size`\n",
    "\n",
    "* SLL\n",
    "* DLL\n",
    "* CLL\n",
    "* DCLL"
   ]
  },
  {
   "cell_type": "markdown",
   "id": "9460444f",
   "metadata": {},
   "source": [
    "## Singly Linked List"
   ]
  },
  {
   "cell_type": "code",
   "execution_count": 26,
   "id": "d388f54a",
   "metadata": {},
   "outputs": [],
   "source": [
    "# Class that creates a node, just a new node and nothing else\n",
    "class Node:\n",
    "    def __init__(self,data=None, next=None):\n",
    "        self.data = data\n",
    "        self.next = next"
   ]
  },
  {
   "cell_type": "code",
   "execution_count": 22,
   "id": "248e2489",
   "metadata": {},
   "outputs": [],
   "source": [
    "# Class that initializes the linked list\n",
    "# Formal way\n",
    "class linked_list:\n",
    "    def __init__(self):\n",
    "        self.head = Node()\n",
    "\n",
    "    # Method to append the list under the linked_list class\n",
    "    def append(self,data=None):\n",
    "        new_node = Node(data)\n",
    "        cur = self.head\n",
    "        while cur.next!=None:\n",
    "            cur = cur.next\n",
    "        cur.next = new_node        \n",
    "\n",
    "    # Method to get length of the linked_list\n",
    "    def lenght(self):\n",
    "        cur = self.head\n",
    "        total = 0\n",
    "        while cur.next!=None:\n",
    "            total+=1\n",
    "            cur = cur.next\n",
    "        print(f\"Lenght of the Linked List is = {total}\")        \n",
    "\n",
    "    # Method to get length of the linked_list\n",
    "    def length_recursion(self, cur, count=0):\n",
    "        if not cur:\n",
    "            return count\n",
    "        return self.length_recursion(cur=cur.next, count=count + 1)\n",
    "\n",
    "\n",
    "    # Display it in list form\n",
    "    def display(self):\n",
    "        elem_list=[]\n",
    "        cur=self.head\n",
    "        while cur.next!=None:\n",
    "            cur=cur.next\n",
    "            elem_list.append(cur.data)\n",
    "        print(elem_list)\n",
    "    \n",
    "    # Display it in list form\n",
    "    def display(self):\n",
    "        elem_list=[]\n",
    "        cur=self.head\n",
    "        while cur.next!=None:\n",
    "            cur=cur.next\n",
    "            elem_list.append(cur.data)\n",
    "        print(elem_list)"
   ]
  },
  {
   "cell_type": "code",
   "execution_count": 24,
   "id": "ffa7c41d",
   "metadata": {},
   "outputs": [
    {
     "name": "stdout",
     "output_type": "stream",
     "text": [
      "Lenght of the Linked List is = 5\n",
      "length using recursions is 5\n",
      "[10, 'Hammaad', True, 9.99, None]\n"
     ]
    }
   ],
   "source": [
    "# Function Calling\n",
    "ll = linked_list()\n",
    "ll.append(10)\n",
    "ll.append('Hammaad')\n",
    "ll.append(True)\n",
    "ll.append(9.99)\n",
    "ll.append()\n",
    "\n",
    "ll.lenght()\n",
    "print(f'length using recursions is {ll.length_recursion(ll.head.next)}')\n",
    "\n",
    "ll.display()"
   ]
  },
  {
   "cell_type": "code",
   "execution_count": 28,
   "id": "b3acd50b",
   "metadata": {},
   "outputs": [],
   "source": [
    "# Method to get length of the linked_list\n",
    "def ll_length(head):\n",
    "    cur = head\n",
    "    count = 0\n",
    "    while cur:\n",
    "        count+=1\n",
    "        cur = cur.next\n",
    "    return count       \n",
    "\n",
    "# Method to get length of the linked_list\n",
    "def ll_length_recursions(cur, count=0):\n",
    "    if not cur:\n",
    "        return count\n",
    "    return ll_length_recursions(cur=cur.next, count=count + 1)"
   ]
  },
  {
   "cell_type": "code",
   "execution_count": 29,
   "id": "3b5868ee",
   "metadata": {},
   "outputs": [
    {
     "name": "stdout",
     "output_type": "stream",
     "text": [
      "Length of the linked list: 4\n",
      "Length of the linked list Recursions: 4\n"
     ]
    }
   ],
   "source": [
    "# Linked list Informal way\n",
    "# Main function\n",
    "def main():\n",
    "    arr = [2, 5, 8, 7]\n",
    "    # Create a linked list\n",
    "    head = Node(arr[0])\n",
    "    head.next = Node(arr[1])\n",
    "    head.next.next = Node(arr[2])\n",
    "    head.next.next.next = Node(arr[3])\n",
    "    # Print the length of the linked list\n",
    "    print(\"Length of the linked list:\", ll_length(head))\n",
    "    print(\"Length of the linked list Recursions:\", ll_length_recursions(head))\n",
    "main()"
   ]
  },
  {
   "cell_type": "markdown",
   "id": "58208e34",
   "metadata": {},
   "source": [
    "## Q1: Reverse a LinkedList \n",
    "\n",
    "*Concept:*\n",
    "* [GFG link](https://www.geeksforgeeks.org/reverse-a-linked-list/)\n",
    "* [YT video](https://www.youtube.com/watch?v=iRtLEoL-r-g&list=PLgUwDviBIf0p4ozDR_kJJkONnb1wdx2Ma&index=26)\n",
    "\n",
    "*Problem:*\n",
    "* [Hacker Rank](https://www.hackerrank.com/challenges/reverse-a-linked-list/problem)\n",
    "\n",
    "*Example:*\n",
    "\n",
    "Input: Head of following linked list\n",
    "`1->2->3->4->NULL`\n",
    "\n",
    "Output: Linked list should be changed to, \n",
    "`4->3->2->1->NULL`\n"
   ]
  },
  {
   "cell_type": "markdown",
   "id": "87f8ea8a",
   "metadata": {},
   "source": [
    "### Iterative - O(N) ~~ O(1)\n",
    "`def rev(self):\n",
    "        cur=self.head\n",
    "        prev=None\n",
    "        while cur.next!=None:\n",
    "            nxt = cur.next\n",
    "            cur.next=prev\n",
    "            prev=cur\n",
    "            cur=nxt\n",
    "        cur.next=prev\n",
    "        self.head=cur\n",
    " `       \n",
    "### Recursive - O(N) ~~ O(N)\n",
    "`def rev_rec(self,prev,cur):\n",
    "        if(cur==None):\n",
    "            self.head=prev\n",
    "            return None\n",
    "        else:\n",
    "            self.rev_rec(cur,cur.next)\n",
    "            cur.next=prev\n",
    "    `\n"
   ]
  },
  {
   "cell_type": "code",
   "execution_count": 4,
   "id": "d6650163",
   "metadata": {},
   "outputs": [
    {
     "name": "stdout",
     "output_type": "stream",
     "text": [
      "1 -> 2 -> 3 -> 4 -> 5\n",
      "5 -> 4 -> 3 -> 2 -> 1\n",
      "1 -> 2 -> 3 -> 4 -> 5\n"
     ]
    }
   ],
   "source": [
    "class node:\n",
    "    def __init__(self,data=None):\n",
    "        self.data=data\n",
    "        self.next=None\n",
    "\n",
    "class LL:\n",
    "    def __init__(self):\n",
    "        self.head=node()\n",
    "    \n",
    "    def makell(self,ll_list):\n",
    "        self.head.data=ll_list[0]\n",
    "        for i in range(1,len(ll_list)):\n",
    "            new=node(ll_list[i])\n",
    "            cur=self.head\n",
    "            while cur.next!=None:\n",
    "                cur=cur.next\n",
    "            cur.next=new\n",
    "            \n",
    "    def printll(self):\n",
    "        cur=cur=self.head\n",
    "        while cur.next!=None:\n",
    "            print(cur.data,end=\" -> \")\n",
    "            cur=cur.next\n",
    "        print(cur.data)\n",
    "        \n",
    "## REVERSE A LL (MAJOR FUNCTION)\n",
    "    def rev(self):\n",
    "        cur=self.head\n",
    "        prev=None\n",
    "        while cur.next!=None:\n",
    "            nxt = cur.next\n",
    "            cur.next=prev\n",
    "            prev=cur\n",
    "            cur=nxt\n",
    "        cur.next=prev\n",
    "        self.head=cur\n",
    "\n",
    "## REVERSE A LL (MAJOR FUNCTION)[Recursive]\n",
    "    def rev_rec(self,prev,cur):\n",
    "        if(cur==None):\n",
    "            self.head=prev\n",
    "            return None\n",
    "        else:\n",
    "            self.rev_rec(cur,cur.next)\n",
    "            cur.next=prev\n",
    "        \n",
    "if __name__=='__main__':\n",
    "    ll=LL()\n",
    "    ll.makell([1,2,3,4,5])\n",
    "    ll.printll()\n",
    "    ll.rev()\n",
    "    ll.printll()\n",
    "    ll.rev_rec(None,ll.head)\n",
    "    ll.printll()\n",
    "            "
   ]
  },
  {
   "cell_type": "markdown",
   "id": "a7ea391d",
   "metadata": {},
   "source": [
    "## Q2: Find middle of LinkedList \n",
    "\n",
    "*Concept:*\n",
    "* [GFG link](https://www.geeksforgeeks.org/reverse-a-linked-list/)\n",
    "* [YT link](https://www.youtube.com/watch?v=sGdwSH8RK-o&list=PLgUwDviBIf0p4ozDR_kJJkONnb1wdx2Ma&index=27)\n",
    "\n",
    "*Problem:*\n",
    "* [LeetCode](https://leetcode.com/problems/middle-of-the-linked-list/)\n",
    "* [GFG](https://practice.geeksforgeeks.org/problems/finding-middle-element-in-a-linked-list/1)\n",
    "\n",
    "*Variation:*\n",
    "1. [Recursion Variation](https://www.geeksforgeeks.org/find-middle-singly-linked-list-recursively/)\n",
    "2. [Insertion Variation](https://www.geeksforgeeks.org/insert-node-middle-linked-list/)\n",
    "3. [Deletion Variation](https://www.geeksforgeeks.org/delete-middle-of-linked-list/)\n",
    "\n",
    "*Example:*\n",
    "\n",
    "Linked List is `1->2->3->4->5->6` \n",
    "\n",
    "then the output should be `4`."
   ]
  },
  {
   "cell_type": "code",
   "execution_count": null,
   "id": "f166a98e",
   "metadata": {},
   "outputs": [],
   "source": []
  },
  {
   "cell_type": "markdown",
   "id": "2f5c4417",
   "metadata": {},
   "source": [
    "## Q3: Merge two sorted Linked List \n",
    "\n",
    "*Concept:*\n",
    "* [GFG link](https://www.geeksforgeeks.org/reverse-a-linked-list/)\n",
    "* [YT link](https://www.youtube.com/watch?v=Xb4slcp1U38&list=PLgUwDviBIf0p4ozDR_kJJkONnb1wdx2Ma&index=28)\n",
    "\n",
    "*Problem:*\n",
    "* [LeetCode](https://leetcode.com/problems/merge-two-sorted-lists/)\n",
    "\n",
    "*Variation:*\n",
    "1. [Merge k sorted llz](https://www.geeksforgeeks.org/merge-k-sorted-arrays/)\n",
    "\n",
    "*Example:*\n",
    "\n",
    "Input: l1 = `[1,2,4]` \n",
    "l2 = `[1,3,4]`\n",
    "\n",
    "Output: `[1,1,2,3,4,4]`"
   ]
  },
  {
   "cell_type": "code",
   "execution_count": null,
   "id": "4c13d42b",
   "metadata": {},
   "outputs": [],
   "source": []
  },
  {
   "cell_type": "code",
   "execution_count": null,
   "id": "d8380e2c",
   "metadata": {},
   "outputs": [],
   "source": [
    "def compare_lists(llist1, llist2):\n",
    "    c1,c2=0,0\n",
    "    cur=llist1\n",
    "    curr=llist2\n",
    "    while cur!=None:\n",
    "        cur=cur.next\n",
    "        c1+=1\n",
    "    while curr!=None:\n",
    "        curr=curr.next\n",
    "        c2+=1\n",
    "    if c1==c2:\n",
    "        flag=1\n",
    "        while llist1!=None and llist2!=None:\n",
    "            if llist1.data==llist2.data:\n",
    "                llist1=llist1.next\n",
    "                llist2=llist2.next\n",
    "            else:\n",
    "                flag=0\n",
    "                return 0\n",
    "        if flag==1:\n",
    "            return 1\n",
    "    else:\n",
    "        return 0"
   ]
  }
 ],
 "metadata": {
  "kernelspec": {
   "display_name": "Python 3 (ipykernel)",
   "language": "python",
   "name": "python3"
  },
  "language_info": {
   "codemirror_mode": {
    "name": "ipython",
    "version": 3
   },
   "file_extension": ".py",
   "mimetype": "text/x-python",
   "name": "python",
   "nbconvert_exporter": "python",
   "pygments_lexer": "ipython3",
   "version": "3.12.0"
  }
 },
 "nbformat": 4,
 "nbformat_minor": 5
}
