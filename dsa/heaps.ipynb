{
 "cells": [
  {
   "cell_type": "markdown",
   "id": "9707322d",
   "metadata": {},
   "source": [
    "# Heaps\n",
    "\n",
    "A special tree where\n",
    "1. Min Heap Property: smallest element is always at the root aka every parent node is <= it's children\n",
    "2. Height O(log n) as it's a balanced tree\n",
    "3. Operations\n",
    "- C/U = O(log n)\n",
    "- R (min) = O(1)\n",
    "- D (min) = O(log n)\n",
    "- Building new heap (heapify) = O(n)\n",
    "- k smallest/largest = O(n log k)"
   ]
  },
  {
   "cell_type": "markdown",
   "id": "a5dd9e93",
   "metadata": {},
   "source": [
    "Python heapq\n",
    "\n",
    "heap_list = []\n",
    "heapq.heappush(heap_list, 10) // insert CU\n",
    "heap_list[0] // peek min R\n",
    "heapq.heappop(heap_list) //pop min D\n",
    "\n",
    "heapq.heappushpop(heap_list, 100) // push then pop, more efficient\n",
    "heapq.heapreplace(heap_list, 100) // pop then push, more efficient\n",
    "\n",
    "heapq.heapify(list) // turn list to heap in O(n)"
   ]
  },
  {
   "cell_type": "code",
   "execution_count": null,
   "id": "457ae7fa",
   "metadata": {},
   "outputs": [],
   "source": []
  },
  {
   "cell_type": "code",
   "execution_count": null,
   "id": "5d0915be",
   "metadata": {},
   "outputs": [],
   "source": []
  },
  {
   "cell_type": "code",
   "execution_count": null,
   "id": "20437ad2",
   "metadata": {},
   "outputs": [],
   "source": []
  }
 ],
 "metadata": {
  "language_info": {
   "name": "python"
  }
 },
 "nbformat": 4,
 "nbformat_minor": 5
}
