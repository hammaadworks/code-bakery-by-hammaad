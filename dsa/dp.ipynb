{
 "cells": [
  {
   "cell_type": "markdown",
   "id": "5813c3ae",
   "metadata": {},
   "source": [
    "# Dynamic Programming\n",
    "* Optimization over plain recursion\n",
    "* Condition:\n",
    "\n",
    "> Optimal Substructure :: Must have many subprob and on solving each subprob the whole prob is also solved\n",
    "\n",
    "> Repeating Subproblem :: i/p same"
   ]
  },
  {
   "cell_type": "markdown",
   "id": "19611cd2",
   "metadata": {},
   "source": [
    "### Fibonacci Recursive v DP"
   ]
  },
  {
   "cell_type": "code",
   "execution_count": 10,
   "id": "3fb3b5fa",
   "metadata": {},
   "outputs": [
    {
     "data": {
      "text/plain": [
       "5"
      ]
     },
     "execution_count": 10,
     "metadata": {},
     "output_type": "execute_result"
    }
   ],
   "source": [
    "# Recursive\n",
    "def fib_recursive(n):\n",
    "    if (n<=1):\n",
    "        return n\n",
    "    else:\n",
    "        return fib_recursive(n-1)+fib_recursive(n-2)\n",
    "fib_recursive(5)"
   ]
  },
  {
   "cell_type": "code",
   "execution_count": 20,
   "id": "a2821593",
   "metadata": {},
   "outputs": [
    {
     "data": {
      "text/plain": [
       "5"
      ]
     },
     "execution_count": 20,
     "metadata": {},
     "output_type": "execute_result"
    }
   ],
   "source": [
    "# DP\n",
    "def fib_dp(n):\n",
    "    fib=[]\n",
    "    fib.append(0)\n",
    "    fib.append(1)\n",
    "    for i in range (2,n+1,1):\n",
    "        fib.append(fib[i-1]+fib[i-2])\n",
    "    return fib[n]\n",
    "fib_dp(5)"
   ]
  },
  {
   "attachments": {},
   "cell_type": "markdown",
   "id": "06c3a2f6",
   "metadata": {},
   "source": [
    "### Q1: Longest Increasing Subsequence [LIS]\n",
    "* [Problem link - LeetCode](https://leetcode.com/problems/longest-increasing-subsequence/)\n",
    "![Lis-Work](images/lis.jpeg)"
   ]
  },
  {
   "cell_type": "code",
   "execution_count": null,
   "id": "c0788236",
   "metadata": {},
   "outputs": [],
   "source": []
  }
 ],
 "metadata": {
  "kernelspec": {
   "display_name": "Python 3 (ipykernel)",
   "language": "python",
   "name": "python3"
  },
  "language_info": {
   "codemirror_mode": {
    "name": "ipython",
    "version": 3
   },
   "file_extension": ".py",
   "mimetype": "text/x-python",
   "name": "python",
   "nbconvert_exporter": "python",
   "pygments_lexer": "ipython3",
   "version": "3.9.6"
  }
 },
 "nbformat": 4,
 "nbformat_minor": 5
}
