{
 "cells": [
  {
   "cell_type": "markdown",
   "id": "b0d985bb",
   "metadata": {},
   "source": [
    "- `export default` = main component of the file\n",
    "- "
   ]
  }
 ],
 "metadata": {
  "language_info": {
   "name": "python"
  }
 },
 "nbformat": 4,
 "nbformat_minor": 5
}
