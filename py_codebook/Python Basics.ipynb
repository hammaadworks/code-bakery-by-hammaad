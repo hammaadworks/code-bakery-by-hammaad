{
 "cells": [
  {
   "cell_type": "markdown",
   "id": "9f41363c",
   "metadata": {},
   "source": [
    "# Python Basics\n",
    "* **List** is a collection which is ordered and changeable. Allows duplicate members.  []\n",
    "* **Dictionary** is a collection which is ordered and changeable. No duplicate members. {}\n",
    "\n",
    ">\n",
    "\n",
    "* **Tuple** is a collection which is ordered and unchangeable. Allows duplicate members. ()\n",
    "* **Set** is a collection which is unordered and unindexed. No duplicate members.set() || {}\n",
    "\n",
    "<table><tr><th>Ordered</th>   <th>Mutable</th>   <th>Duplicate</th><th>Unindexed</th></tr>\n",
    "       <tr><td>List</td>      <td>List</td>      <td>List</td>     <td>Set</td></tr>\n",
    "       <tr><td>Dictionary</td><td>Dictionary</td><td>Tuple</td>    <td>-</td></tr>\n",
    "       <tr><td>Tuple</td>     <td>-</td>         <td>-</td>        <td>-</td></tr>\n",
    "</table>    \n",
    "\n",
    "<table><tr><th>Unordered</th><th>Immutable</th><th>Unique</th></tr>\n",
    "       <tr><td>Set</td>      <td>Tuple</td>    <td>Dictionary</td></tr>\n",
    "       <tr><td>-</td>        <td>Set</td>      <td>Set</td></tr>\n",
    "</table>"
   ]
  },
  {
   "cell_type": "markdown",
   "id": "ed6e1e38",
   "metadata": {},
   "source": [
    "# Lists"
   ]
  },
  {
   "cell_type": "code",
   "execution_count": 1,
   "id": "7aa9d5c9",
   "metadata": {},
   "outputs": [
    {
     "name": "stdout",
     "output_type": "stream",
     "text": [
      "[2]\n",
      "[1, 2]\n"
     ]
    }
   ],
   "source": [
    "l=list()\n",
    "l1=[1]\n",
    "l.append(2)\n",
    "l1.extend(l)\n",
    "print(l)\n",
    "print(l1)"
   ]
  },
  {
   "cell_type": "markdown",
   "id": "8896671f",
   "metadata": {},
   "source": [
    "## List Methods\n",
    "* **append(elem)** - add 1 elem to last\n",
    "* **insert(pos,elem)** - add 1 elem at a specific pos\n",
    "* **L1.extend(L2)** - copy all elem of L2 to L1 in L1\n",
    ">\n",
    "* **sum(L1), max(L1), min(L1), len(L1)**\n",
    "* **L1.count(elem)** - # of elem occurences in L1\n",
    "* **L1.index(elem, [start, [end)** - index of elem in the list\n",
    ">\n",
    "* **sorted(L1, reverse=False)** `stores the sorted elem in a different list (*cool*)`\n",
    "* **L1.sort(reverse=True)** `alters the original list`\n",
    ">\n",
    "* **L1.pop([index)** - del last elem or at a pos-index\n",
    "* **L1.remove(elem)** - del elem of the specified value (not index only value)*just--once*\n",
    "* **L1.clear()** - clear the entire list\n",
    "* **del L1[0]**- works like pop at index\n",
    "* elem **in** list- check if somethings there in the list\n"
   ]
  },
  {
   "cell_type": "code",
   "execution_count": 2,
   "id": "515fa4ff",
   "metadata": {},
   "outputs": [
    {
     "name": "stdout",
     "output_type": "stream",
     "text": [
      "Shallow Copy :: a=l\n",
      "a=[2, 3, 4, 4, 5, 4, 5]\n",
      "l=[2, 3, 4, 4, 5, 4, 5]\n",
      "\n",
      "Deep Copy :: c=l.copy()\n",
      "c=[1, 2, 4, 5, 4, 5, 4, 5, 6]\n"
     ]
    }
   ],
   "source": [
    "#### SHALLOW COPY :: = :: no new object; only new variable; changes affect both\n",
    "#### DEEP COPY :: .copy() :: new object; clones; changes affects one\n",
    "\n",
    "l = [1,2,3,4,5,4,5,4,5,6]\n",
    "\n",
    "# Makes a new list c at a different address\n",
    "# Any changes in c dont reflect in l  (c><l)\n",
    "\n",
    "c=l.copy()\n",
    "\n",
    "# Makes a new list a at same address\n",
    "# ALiasing\n",
    "# All changes in a reflect in l and vice-versa  (a<>l)\n",
    "\n",
    "a=l\n",
    "\n",
    "del a[0]\n",
    "l.remove(5)\n",
    "a.pop()\n",
    "c.remove(3)\n",
    "\n",
    "print(f\"Shallow Copy :: a=l\\na={a}\\nl={l}\\n\\nDeep Copy :: c=l.copy()\\nc={c}\")"
   ]
  },
  {
   "cell_type": "markdown",
   "id": "ca8c902e",
   "metadata": {},
   "source": [
    "### Enumerate"
   ]
  },
  {
   "cell_type": "code",
   "execution_count": 3,
   "id": "147301cb",
   "metadata": {},
   "outputs": [
    {
     "name": "stdout",
     "output_type": "stream",
     "text": [
      "Index::Value\n",
      "0 :: A\n",
      "1 :: B\n",
      "2 :: C\n",
      "3 :: D\n",
      "Index Starting at 10\n",
      "10 :: A\n",
      "11 :: B\n",
      "12 :: C\n",
      "13 :: D\n"
     ]
    }
   ],
   "source": [
    "li = ['A','B','C','D']\n",
    "print(\"Index::Value\")\n",
    "for index,value in enumerate(li):\n",
    "    print(index,\"::\",value)\n",
    "print(\"Index Starting at 10\")\n",
    "for i,v in enumerate(li,start=10):\n",
    "    print(f\"{i} :: {v}\")"
   ]
  },
  {
   "cell_type": "code",
   "execution_count": 4,
   "id": "b6446516",
   "metadata": {},
   "outputs": [
    {
     "name": "stdout",
     "output_type": "stream",
     "text": [
      "ZIPPED list = [(1, 2), (3, 4), (5, 6), (7, 8), (9, 10)]\n",
      "After Unzipping\n",
      "List-A = (1, 3, 5, 7, 9)\n",
      "List-B = (2, 4, 6, 8, 10)\n"
     ]
    }
   ],
   "source": [
    "#### ZIP-ping two lists\n",
    "# can have n-number of lists\n",
    "a=[1,3,5,7,9]\n",
    "b=[2,4,6,8,10]\n",
    "#### a tuple of zips\n",
    "zipped = list(zip(a,b))\n",
    "print(f\"ZIPPED list = {zipped}\")\n",
    "#### Unzipping *\n",
    "list_a,list_b = zip(*zipped)\n",
    "print(f\"After Unzipping\\nList-A = {list_a}\\nList-B = {list_b}\")"
   ]
  },
  {
   "cell_type": "markdown",
   "id": "384870b8",
   "metadata": {},
   "source": [
    "### List Comprehension"
   ]
  },
  {
   "cell_type": "code",
   "execution_count": 5,
   "id": "4f471d0d",
   "metadata": {},
   "outputs": [
    {
     "name": "stdout",
     "output_type": "stream",
     "text": [
      "[0, 1, 4, 9, 16, 25, 36, 49, 64, 81]\n"
     ]
    }
   ],
   "source": [
    "def foo(x):\n",
    "    return x**2\n",
    "\n",
    "l = [foo(i) for i in range(10)]\n",
    "print(l)"
   ]
  },
  {
   "cell_type": "markdown",
   "id": "6509e483",
   "metadata": {},
   "source": [
    "### Storing instances of objects in a list\n",
    "* Ok, so list can take up any data-structure :: an instance of an object"
   ]
  },
  {
   "cell_type": "code",
   "execution_count": 6,
   "id": "b0491b83",
   "metadata": {},
   "outputs": [
    {
     "name": "stdout",
     "output_type": "stream",
     "text": [
      "[10, <__main__.sample_class object at 0x000001703FB8C700>, 10, <__main__.sample_class object at 0x000001703FB8C6D0>, 10, <__main__.sample_class object at 0x000001703FB8C610>, 10, <__main__.sample_class object at 0x000001703FB8C190>, 10, <__main__.sample_class object at 0x000001703FB8CBE0>]\n"
     ]
    }
   ],
   "source": [
    "class sample_class():\n",
    "    def __init__(self):\n",
    "        # value is the private variable of this class\n",
    "        self.value = 10\n",
    "\n",
    "l = []\n",
    "for i in range(10):\n",
    "    obj = sample_class()\n",
    "    if (not(i%2)):\n",
    "        l.append(obj.value)\n",
    "    else:\n",
    "        # This stores the reference address of the obj on all odd positions\n",
    "        l.append(obj)\n",
    "        \n",
    "print(l)"
   ]
  },
  {
   "cell_type": "markdown",
   "id": "054ec940",
   "metadata": {},
   "source": [
    "## String <-> List\n",
    "* join == list -> string  `\"delim\".join(list)`\n",
    "* split == string -> list `str.split(\"delim\")`"
   ]
  },
  {
   "cell_type": "code",
   "execution_count": 7,
   "id": "849612de",
   "metadata": {},
   "outputs": [
    {
     "name": "stdout",
     "output_type": "stream",
     "text": [
      "L -> S\n",
      "L-I-Z-T\n",
      "\n",
      "S -> L\n",
      "['L', 'I', 'Z', 'T']\n"
     ]
    }
   ],
   "source": [
    "li = ['L','I','Z','T']\n",
    "print(\"L -> S\")\n",
    "li_str = '-'.join(li)\n",
    "print(li_str)\n",
    "print(\"\\nS -> L\")\n",
    "str_li = li_str.split('-')\n",
    "print(str_li)"
   ]
  },
  {
   "cell_type": "markdown",
   "id": "10dfc75f",
   "metadata": {},
   "source": [
    "# Dictionaries\n",
    "\n",
    "* Key-Value Index Mapping\n",
    "* HashMap\n",
    "* Mutable\n",
    "* No ordering but **3.7 and above Ordered Dictionaries**"
   ]
  },
  {
   "cell_type": "code",
   "execution_count": 8,
   "id": "cdbe967d",
   "metadata": {},
   "outputs": [
    {
     "name": "stdout",
     "output_type": "stream",
     "text": [
      "Value at key 1 in dict is 8\n"
     ]
    }
   ],
   "source": [
    "# Creating new dict can use {} or dict(key=\"value\")\n",
    "dict = {}\n",
    "\n",
    "# dict[key] = value\n",
    "dict['a']=2\n",
    "dict['b']=4\n",
    "dict[1]=8          ##number->mem-addr->value\n",
    "dict['1']=8        ##ascii->hex->mem-addr->value\n",
    "\n",
    "# !2 same keys the **latest key value pair is chosen**\n",
    "print(f\"Value at key 1 in dict is {dict[1]}\") #8"
   ]
  },
  {
   "cell_type": "code",
   "execution_count": 9,
   "id": "b5e6d2d6",
   "metadata": {},
   "outputs": [
    {
     "name": "stdout",
     "output_type": "stream",
     "text": [
      "{'age': 99, 'score': 100.9, 1: '1'}\n",
      "{'cool': 99, 'awesome': 'Yeah!', 'amazing': True}\n"
     ]
    }
   ],
   "source": [
    "new_dict = {'age':99,'score':100.9}\n",
    "newr_dict = {'cool':99,'awesome':\"Yeah!\"}\n",
    "newr_dict[\"amazing\"]=True\n",
    "new_dict[1]=\"1\"\n",
    "print(new_dict)\n",
    "print(newr_dict)"
   ]
  },
  {
   "cell_type": "markdown",
   "id": "7e0effac",
   "metadata": {},
   "source": [
    "## *Dict to store the instance of the class*"
   ]
  },
  {
   "cell_type": "code",
   "execution_count": 10,
   "id": "27de2db1",
   "metadata": {},
   "outputs": [
    {
     "data": {
      "text/plain": [
       "'data'"
      ]
     },
     "execution_count": 10,
     "metadata": {},
     "output_type": "execute_result"
    }
   ],
   "source": [
    "class my_class:\n",
    "    def __init__(self,data='data'):\n",
    "        self.data=data\n",
    "        \n",
    "instance = my_class()\n",
    "dict={}\n",
    "dict['i'] = instance\n",
    "dict['i'].data"
   ]
  },
  {
   "cell_type": "markdown",
   "id": "d5557296",
   "metadata": {},
   "source": [
    "## Dictionaries Function Set\n",
    "* `len()`: Display number of Keys. (***int***)\n",
    "\n",
    "\n",
    "* `popitem()`: Clears the *last key*. (***(key,value)***)\n",
    "\n",
    "\n",
    "* `pop()`: Clear a particular key. (***value***)\n",
    "\n",
    "\n",
    "* `clear()`: Clear all content of dict. (***empty dict***)\n",
    "\n",
    "\n",
    "* `keys()`: All keys. (***dict_keys([])***)\n",
    "\n",
    "\n",
    "* `values()`: All values. (***dict_values([])***)\n",
    "\n",
    "\n",
    "* `items()`: All keys and value pairs with : and , (***dict_items([(),()])***)\n",
    "\n",
    "\n",
    "* `__contains__(key)`: Check if **key** exists. (***bool***)\n",
    "\n",
    "\n",
    "* `cmp(x,y)`: Compare the lenghts of two dicts. (***x>y:1 x=y:0 x<y:-1***)"
   ]
  },
  {
   "cell_type": "code",
   "execution_count": 11,
   "id": "8b8fb8b0",
   "metadata": {},
   "outputs": [
    {
     "name": "stdout",
     "output_type": "stream",
     "text": [
      "{'age': 99, 'score': 100.9, 1: '1'}\n",
      "Popping 1 of <class 'str'>\n",
      "{'age': 99, 'score': 100.9}\n",
      "('score', 100.9)\n",
      "{'age': 99}\n"
     ]
    }
   ],
   "source": [
    "print(new_dict)\n",
    "a=new_dict.pop(1)\n",
    "print(f'Popping {a} of {type(a)}')\n",
    "print(new_dict)\n",
    "\n",
    "# popitem() is much better!\n",
    "a=new_dict.popitem()\n",
    "print(a)\n",
    "print(new_dict)"
   ]
  },
  {
   "cell_type": "code",
   "execution_count": null,
   "id": "7fadb1b2",
   "metadata": {},
   "outputs": [],
   "source": []
  },
  {
   "cell_type": "code",
   "execution_count": null,
   "id": "d162ba83",
   "metadata": {},
   "outputs": [],
   "source": []
  },
  {
   "cell_type": "markdown",
   "id": "f57d6728",
   "metadata": {},
   "source": [
    "# Tuple (edit)\n",
    "\n",
    "* Key-Value Index Mapping\n",
    "* HashMap\n",
    "* Ordered, Duplicate and Immutable"
   ]
  },
  {
   "cell_type": "markdown",
   "id": "dd9cec58",
   "metadata": {},
   "source": [
    "## Tuple Function Set (edit)\n",
    "* `len()`: Display number of Keys. (***int***)\n",
    "\n",
    "\n",
    "* `popitem()`: Clears the *last key*. (***(key,value)***)\n",
    "\n",
    "\n",
    "* `pop()`: Clear a particular key. (***value***)\n",
    "\n",
    "\n",
    "* `clear()`: Clear all content of dict. (***empty dict***)\n",
    "\n",
    "\n",
    "* `keys()`: All keys. (***dict_keys([])***)\n",
    "\n",
    "\n",
    "* `values()`: All values. (***dict_values([])***)\n",
    "\n",
    "\n",
    "* `items()`: All keys and value pairs with : and , (***dict_items([(),()])***)\n",
    "\n",
    "\n",
    "* `__contains__(key)`: Check if **key** exists. (***bool***)\n",
    "\n",
    "\n",
    "* `cmp(x,y)`: Compare the lenghts of two dicts. (***x>y:1 x=y:0 x<y:-1***)"
   ]
  },
  {
   "cell_type": "code",
   "execution_count": null,
   "id": "4af7dc9f",
   "metadata": {},
   "outputs": [],
   "source": []
  },
  {
   "cell_type": "code",
   "execution_count": null,
   "id": "af3eee51",
   "metadata": {},
   "outputs": [],
   "source": []
  },
  {
   "cell_type": "markdown",
   "id": "d5ed11e5",
   "metadata": {},
   "source": [
    "# Set (edit)\n",
    "\n",
    "* Key-Value Index Mapping\n",
    "* HashMap\n",
    "* Mutable\n",
    "* No ordering but **3.7 and above Ordered Dictionaries**"
   ]
  },
  {
   "cell_type": "markdown",
   "id": "2b5a531b",
   "metadata": {},
   "source": [
    "## Set Function Set (edit)\n",
    "* `len()`: Display number of Keys. (***int***)\n",
    "\n",
    "\n",
    "* `popitem()`: Clears the *last key*. (***(key,value)***)\n",
    "\n",
    "\n",
    "* `pop()`: Clear a particular key. (***value***)\n",
    "\n",
    "\n",
    "* `clear()`: Clear all content of dict. (***empty dict***)\n",
    "\n",
    "\n",
    "* `keys()`: All keys. (***dict_keys([])***)\n",
    "\n",
    "\n",
    "* `values()`: All values. (***dict_values([])***)\n",
    "\n",
    "\n",
    "* `items()`: All keys and value pairs with : and , (***dict_items([(),()])***)\n",
    "\n",
    "\n",
    "* `__contains__(key)`: Check if **key** exists. (***bool***)\n",
    "\n",
    "\n",
    "* `cmp(x,y)`: Compare the lenghts of two dicts. (***x>y:1 x=y:0 x<y:-1***)"
   ]
  },
  {
   "cell_type": "code",
   "execution_count": null,
   "id": "1a7935de",
   "metadata": {},
   "outputs": [],
   "source": []
  },
  {
   "cell_type": "code",
   "execution_count": null,
   "id": "81043f32",
   "metadata": {},
   "outputs": [],
   "source": []
  },
  {
   "cell_type": "markdown",
   "id": "5734325e",
   "metadata": {},
   "source": [
    "## Strings are immutable in Python\n",
    "* Indexing starts from 0\n",
    "* Supports Splicing "
   ]
  },
  {
   "cell_type": "code",
   "execution_count": 12,
   "id": "5290796c",
   "metadata": {},
   "outputs": [
    {
     "name": "stdout",
     "output_type": "stream",
     "text": [
      "a\n"
     ]
    }
   ],
   "source": [
    "name = \"Hammaad\"\n",
    "print(name[4])\n",
    "# Eg: Immutable\n",
    "## name[4]='d' ==> aint possible ==> !Item assignment ==> Immutable"
   ]
  },
  {
   "cell_type": "code",
   "execution_count": 13,
   "id": "f45dd904",
   "metadata": {},
   "outputs": [
    {
     "name": "stdout",
     "output_type": "stream",
     "text": [
      "note\n",
      "koobeton\n",
      "book\n",
      "beton\n"
     ]
    }
   ],
   "source": [
    "# 0->m ; -m->-1 ; [inc:rem:lev]\n",
    "\n",
    "var='notebook'\n",
    "print(var[:4])\n",
    "rev=var[::-1]\n",
    "print(rev)\n",
    "print(var[4:])\n",
    "bote=var[-4::-1]\n",
    "print(bote)"
   ]
  },
  {
   "cell_type": "markdown",
   "id": "ba5e8a0f",
   "metadata": {},
   "source": [
    "## String Function Set (edit)\n",
    "* `len()`: Display number of Keys. (***int***)\n",
    "\n",
    "\n",
    "* `popitem()`: Clears the *last key*. (***(key,value)***)\n",
    "\n",
    "\n",
    "* `pop()`: Clear a particular key. (***value***)\n",
    "\n",
    "\n",
    "* `clear()`: Clear all content of dict. (***empty dict***)\n",
    "\n",
    "\n",
    "* `keys()`: All keys. (***dict_keys([])***)\n",
    "\n",
    "\n",
    "* `values()`: All values. (***dict_values([])***)\n",
    "\n",
    "\n",
    "* `items()`: All keys and value pairs with : and , (***dict_items([(),()])***)\n",
    "\n",
    "\n",
    "* `__contains__(key)`: Check if **key** exists. (***bool***)\n",
    "\n",
    "\n",
    "* `cmp(x,y)`: Compare the lenghts of two dicts. (***x>y:1 x=y:0 x<y:-1***)"
   ]
  },
  {
   "cell_type": "code",
   "execution_count": null,
   "id": "fda9c932",
   "metadata": {},
   "outputs": [],
   "source": []
  },
  {
   "cell_type": "code",
   "execution_count": null,
   "id": "0d3faf5a",
   "metadata": {},
   "outputs": [],
   "source": []
  },
  {
   "cell_type": "markdown",
   "id": "ba753e40",
   "metadata": {},
   "source": [
    "## Optional Parameter\n",
    "`def foo(x):`\n",
    "* x is a parameter\n",
    "* x can be a **default parameter**\n",
    "* Default Parameters are always in the right\n",
    "* Default Parameter == Optional Parameter"
   ]
  },
  {
   "cell_type": "code",
   "execution_count": 14,
   "id": "c7537dff",
   "metadata": {},
   "outputs": [
    {
     "name": "stdout",
     "output_type": "stream",
     "text": [
      "lol\tlol\tlol\tlol\t\n",
      "optional\n"
     ]
    }
   ],
   "source": [
    "def freq(word,freq=1):\n",
    "    print(word*freq)\n",
    "freq('lol\\t',4)\n",
    "freq('optional')"
   ]
  },
  {
   "cell_type": "markdown",
   "id": "da6688cd",
   "metadata": {},
   "source": [
    "## Static Methods\n",
    "* @staticmethod - Decorator\n",
    "* No arguments passed ~~ No parameters required\n",
    "* Cannot access the variables of the class that calls \n",
    "\n",
    "## Class Methods\n",
    "* @classmethod - Decorator\n",
    "* The class is sent as an argument ~~ One argument needed\n",
    "* Can access the variables of the class passed\n",
    "* Can have many static methods under one class method\n",
    "\n",
    "***No self for both of them<br>No need of instances/objects<br>Directly use the class***"
   ]
  },
  {
   "cell_type": "code",
   "execution_count": 15,
   "id": "12d0f4bb",
   "metadata": {},
   "outputs": [
    {
     "name": "stdout",
     "output_type": "stream",
     "text": [
      "Calling a class method\n",
      "Company =  Glassware Co.\n",
      "\n",
      "Calling a static method\n",
      "Material = Glass\n",
      "\n",
      "Object Company =  Glassware Co.\n",
      "Object Material = Glass\n",
      "\n",
      "Object Invocation can be done in 2 ways :: obj.meth() or cls.meth(obj)\n",
      "Model :  a3  =>  12  ltrz\n",
      "Model :  a3  =>  12  ltrz\n"
     ]
    }
   ],
   "source": [
    "class jug:\n",
    "    company = 'Glassware Co.'\n",
    "    \n",
    "    def __init__(self,model,ltr):\n",
    "        self.model = model\n",
    "        self.ltr = ltr\n",
    "    \n",
    "    @classmethod\n",
    "    def get_company(clas):\n",
    "        return clas.company\n",
    "    \n",
    "    @staticmethod\n",
    "    def material():\n",
    "        return 'Glass'\n",
    "    \n",
    "    def print(self):\n",
    "        print(\"Model : \",self.model,\" => \",self.ltr,\" ltrz\")\n",
    "\n",
    "a3_jug = jug('a3',12)\n",
    "print(\"Calling a class method\")\n",
    "print(\"Company = \",jug.get_company())\n",
    "print(\"\\nCalling a static method\")\n",
    "print(\"Material =\",jug.material())\n",
    "print(\"\\nObject Company = \",a3_jug.get_company())\n",
    "print(\"Object Material =\",a3_jug.material())\n",
    "\n",
    "print(\"\\nObject Invocation can be done in 2 ways :: obj.meth() or cls.meth(obj)\")\n",
    "a3_jug.print()\n",
    "jug.print(a3_jug)"
   ]
  },
  {
   "cell_type": "markdown",
   "id": "563c0a0f",
   "metadata": {},
   "source": [
    "## Map() and Filter()\n",
    "* Map and Filter take two parameters : Func and List\n",
    "* map-eg: `liz = list(map(foo,li))` ~~ Remember no () in foo\n",
    "* Fiter is a *Map with Condition* ~~ *Works Boolean only*\n",
    "* filter-eg: `liz = list(filter(foo,li))` ~~ Remember no () in foo, foo can also be a string\n",
    "* "
   ]
  },
  {
   "cell_type": "code",
   "execution_count": 16,
   "id": "e8d2b14a",
   "metadata": {},
   "outputs": [
    {
     "name": "stdout",
     "output_type": "stream",
     "text": [
      "[1, 2, 3, 4, 5, 6, 7, 8, 9, 10]\n",
      "[1, 4, 9, 16, 25, 36, 49, 64, 81, 100]\n",
      "[1, 4, 9, 16, 25, 36, 49, 64, 81, 100]\n",
      "[2, 4, 6, 8, 10]\n",
      "[2, 4, 6, 8, 10]\n",
      "[4, 16, 36, 64, 100]\n",
      "[4, 16, 36, 64, 100]\n"
     ]
    }
   ],
   "source": [
    "# Basic list comprehension\n",
    "li = [x for x in range(1,11)]\n",
    "print(li)\n",
    "\n",
    "def foo(x):\n",
    "    return x**2\n",
    "\n",
    "def even(x):\n",
    "    return x%2==0\n",
    "\n",
    "# Using List Comprehension\n",
    "liz = [foo(x) for x in li]\n",
    "print(liz)\n",
    "\n",
    "# Using MAP()\n",
    "liz = list(map(foo,li))\n",
    "print(liz)\n",
    "\n",
    "# List Comprehension with if\n",
    "liz = [x for x in li if even(x)]\n",
    "print(liz)\n",
    "\n",
    "# Filter\n",
    "liz = list(filter(even,li))\n",
    "print(liz)\n",
    "\n",
    "# Cooler List Comprehension with if\n",
    "liz = [foo(x) for x in li if x%2==0]\n",
    "print(liz)\n",
    "\n",
    "# Map and Filter\n",
    "liz = list(map(foo,filter(even,li)))\n",
    "print(liz)"
   ]
  },
  {
   "cell_type": "markdown",
   "id": "c7530ea4",
   "metadata": {},
   "source": [
    "## Lambda\n",
    "* Anonymous, In-line functions in python\n",
    "* One-line function\n",
    "* Use Case: Function within functions\n",
    "* `lambda parameters: return-expression`"
   ]
  },
  {
   "cell_type": "code",
   "execution_count": 17,
   "id": "dd9ceed4",
   "metadata": {},
   "outputs": [
    {
     "data": {
      "text/plain": [
       "6"
      ]
     },
     "execution_count": 17,
     "metadata": {},
     "output_type": "execute_result"
    }
   ],
   "source": [
    "foo = lambda x,y=1: x+5\n",
    "foo(1)"
   ]
  },
  {
   "cell_type": "markdown",
   "id": "591110ad",
   "metadata": {},
   "source": [
    "### Containers\n",
    "* List\n",
    "* Dictionary\n",
    "* Set\n",
    "* Tuples\n",
    "\n",
    "### Counters\n",
    "* \n",
    "*\n",
    "*\n",
    "*"
   ]
  },
  {
   "cell_type": "markdown",
   "id": "dfb84468",
   "metadata": {},
   "source": [
    "code -> compiled(hll-lll[bytecode]) -> interpreted(mll[machinecode])"
   ]
  }
 ],
 "metadata": {
  "kernelspec": {
   "display_name": "Python 3 (ipykernel)",
   "language": "python",
   "name": "python3"
  },
  "language_info": {
   "codemirror_mode": {
    "name": "ipython",
    "version": 3
   },
   "file_extension": ".py",
   "mimetype": "text/x-python",
   "name": "python",
   "nbconvert_exporter": "python",
   "pygments_lexer": "ipython3",
   "version": "3.9.6"
  }
 },
 "nbformat": 4,
 "nbformat_minor": 5
}
