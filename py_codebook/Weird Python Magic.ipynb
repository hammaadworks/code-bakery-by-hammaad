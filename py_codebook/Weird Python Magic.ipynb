{
 "cells": [
  {
   "cell_type": "code",
   "execution_count": 27,
   "id": "f081ed68",
   "metadata": {},
   "outputs": [
    {
     "name": "stdout",
     "output_type": "stream",
     "text": [
      "2\n"
     ]
    },
    {
     "data": {
      "text/plain": [
       "False"
      ]
     },
     "execution_count": 27,
     "metadata": {},
     "output_type": "execute_result"
    }
   ],
   "source": [
    "import math\n",
    "def isprime(g):\n",
    "    for i in range(2,int(math.sqrt(g))+1):\n",
    "        print(i)\n",
    "        if(g%i==0):\n",
    "            return False\n",
    "    return True\n",
    "isprime(4)"
   ]
  },
  {
   "cell_type": "code",
   "execution_count": 3,
   "id": "cf9ba981",
   "metadata": {},
   "outputs": [
    {
     "name": "stdout",
     "output_type": "stream",
     "text": [
      "0\n",
      "1\n",
      "2\n"
     ]
    }
   ],
   "source": [
    "## For - Else\n",
    "## If for is successful - only then execed\n",
    "for i in range(5):\n",
    "    print(i)\n",
    "else:\n",
    "    print(\"FOR LOOP is SUCCESS\")\n",
    "## Doesn't work with brak "
   ]
  },
  {
   "cell_type": "code",
   "execution_count": 1,
   "id": "5bd816d3",
   "metadata": {},
   "outputs": [
    {
     "data": {
      "text/plain": [
       "[[1], [1], [1], [1], [1], [1], [1], [1], [1], [1]]"
      ]
     },
     "execution_count": 1,
     "metadata": {},
     "output_type": "execute_result"
    }
   ],
   "source": [
    "li = [[]]*10\n",
    "li[0].append(1)\n",
    "li\n",
    "# The list object is copied Hence changing 1 changes all lists"
   ]
  },
  {
   "cell_type": "code",
   "execution_count": null,
   "id": "d36443e4",
   "metadata": {},
   "outputs": [],
   "source": []
  },
  {
   "cell_type": "code",
   "execution_count": null,
   "id": "1b0dea8b",
   "metadata": {},
   "outputs": [],
   "source": []
  },
  {
   "cell_type": "code",
   "execution_count": null,
   "id": "852f0fa7",
   "metadata": {},
   "outputs": [],
   "source": []
  }
 ],
 "metadata": {
  "kernelspec": {
   "display_name": "Python 3 (ipykernel)",
   "language": "python",
   "name": "python3"
  },
  "language_info": {
   "codemirror_mode": {
    "name": "ipython",
    "version": 3
   },
   "file_extension": ".py",
   "mimetype": "text/x-python",
   "name": "python",
   "nbconvert_exporter": "python",
   "pygments_lexer": "ipython3",
   "version": "3.9.6"
  }
 },
 "nbformat": 4,
 "nbformat_minor": 5
}
