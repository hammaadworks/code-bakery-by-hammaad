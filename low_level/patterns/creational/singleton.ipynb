{
 "cells": [
  {
   "cell_type": "markdown",
   "id": "c7446d31",
   "metadata": {},
   "source": [
    "# Creational: `singelton`\n",
    "\n",
    "## Real World Analogies\n",
    "1. Government Documents (Passport/Aadhaar/Citizenship documents):\n",
    "2. DB connection pool manager: one pool many connections else waste of resources and DB crash\n",
    "3. Atomic Clock of a Distributed System to avoid time drift and confusions.\n",
    "\n",
    "\n",
    "## Definition\n",
    "- Controlling object creation\n",
    "- One instance of the class in the entire system and provides global access to that instance\n",
    "- you'll exactly get 1 instance ever\n",
    "- "
   ]
  }
 ],
 "metadata": {
  "language_info": {
   "name": "python"
  }
 },
 "nbformat": 4,
 "nbformat_minor": 5
}
