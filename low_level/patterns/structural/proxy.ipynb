{
 "cells": [
  {
   "cell_type": "markdown",
   "id": "80c1a7ee",
   "metadata": {},
   "source": [
    "# Proxy - Structural\n",
    "\n",
    "- A gatekeeper object that intercepts and manages interactions of the real object without changing it's core logic. It adds rules before delegating the request to the real object.\n",
    "\n",
    "- Celeb and Bodyguard (protection proxy - access control)\n",
    "\n",
    "- Depends(...) injects logic via a proxy\n",
    "- Caching proxy - redis cache wrapper, app review caching\n",
    "- virtual proxy \n",
    "  - lazy load heavy objects (DB sessions)\n",
    "  - Youtube thummbnalis (proxy), video player (real object), proxy prevents laoding unless user demands. delay object creation\n",
    "- Mock proxy\n",
    "- Protection proxy (access control, rbac, rate limiting)\n",
    "\n",
    "- Proxy and Decorator\n",
    "  - gatekeeper | wrapper\n",
    "  - access control | enhancement/aspect oriented\n",
    "  - may or may not reach the real object | will reach the real object\n",
    "  - "
   ]
  }
 ],
 "metadata": {
  "language_info": {
   "name": "python"
  }
 },
 "nbformat": 4,
 "nbformat_minor": 5
}
