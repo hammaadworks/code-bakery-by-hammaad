{
 "cells": [
  {
   "cell_type": "markdown",
   "id": "dd6daaea",
   "metadata": {},
   "source": [
    "Decorator Design Patterns\n",
    "- layered behavioural enhancement added to objects in runtime without affecting other objects of the same base class \n",
    "- dynamically wrap original functionality without changing it's core\n",
    "- Analogy: (add-ons, toppings) \n",
    "  - Chai + Elaichi + Kadak\n",
    "  - Donuts + Glaze + Sprinkles\n",
    "  - Pizza + Cheese Burst + Toppings\n",
    "  - SaaS Pricing Tier Page\n",
    "  - FastAPI Middleware\n",
    "- Keywords: Layered enhancement + Dynamically + Runtime Polymorphism\n",
    "- Base Class : Chai\n",
    "  - Sub: Plain Chai\n",
    "  - Sub: Elaichi Chai\n",
    "  - Sub: Kadak Chai"
   ]
  }
 ],
 "metadata": {
  "language_info": {
   "name": "python"
  }
 },
 "nbformat": 4,
 "nbformat_minor": 5
}
