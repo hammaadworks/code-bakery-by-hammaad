{
 "cells": [
  {
   "cell_type": "markdown",
   "id": "a1bf4703",
   "metadata": {},
   "source": [
    "# Binary Search\n",
    "\n",
    "> This series contains questions related to Binary Searching.\n",
    "\n",
    "<a target=\"_blank\" href=\"https://colab.research.google.com/github/hammaadworks/code-bakery-by-hammaad/blob/master/dsa-py-codebook/bs.ipynb\">\n",
    "  <img src=\"https://colab.research.google.com/assets/colab-badge.svg\" alt=\"Open In Colab\"/>\n",
    "</a>\n"
   ]
  },
  {
   "cell_type": "code",
   "execution_count": 23,
   "id": "4d9b7bbb",
   "metadata": {},
   "outputs": [
    {
     "name": "stdout",
     "output_type": "stream",
     "text": [
      "5\n"
     ]
    }
   ],
   "source": [
    "import bisect\n",
    "\n",
    "def floor(a, x):\n",
    "    low, high = 0, len(a) - 1\n",
    "    while low<=high:\n",
    "        mid = (low + high) // 2\n",
    "        if a[mid]<=x:\n",
    "            low = mid + 1\n",
    "        else:\n",
    "            high = mid - 1\n",
    "    return high    \n",
    "\n",
    "def ceil(a, x):\n",
    "    low, high = 0, len(a) - 1\n",
    "    while low<=high:\n",
    "        mid = (low + high) // 2\n",
    "        if a[mid]>=x:\n",
    "            high = mid - 1\n",
    "        else:\n",
    "            low = mid + 1\n",
    "    return low\n",
    "        \n",
    "\n",
    "arr = [10,20,30,40,50]\n",
    "print(bisect.bisect_left(arr, 55))"
   ]
  },
  {
   "cell_type": "markdown",
   "id": "2c0c54e1",
   "metadata": {},
   "source": [
    "\n",
    "---\n",
    "\n",
    "## 1. Generate Power Set\n",
    "\n",
    "*Tags: [#all_subsets]() , [#all_subsequences]()*\\\n",
    "Concepts: \n",
    "<a style=\"color:red\" href=\"https://www.youtube.com/watch?v=LqKaUv1G3_I\">#bit_manipulation</a> | \n",
    "<a style=\"color:red\" href=\"https://www.youtube.com/watch?v=AxNNVECce8c\">#recursion</a> |\\\n",
    "Links: \n",
    "<a style=\"color:yellow\" href=\"https://leetcode.com/problems/subsets/description/\">#lc</a> |\\\n",
    "ATSC: \n",
    "<span style=\"color:green\">(*bit_manipulation*) **O(N)** || **O(1)**</span>\n",
    "\n",
    "<details>\n",
    "<summary>Example</summary>\n",
    "Input: nums = [1,2,3]\n",
    "\n",
    "Output: [[],[1],[2],[1,2],[3],[1,3],[2,3],[1,2,3]]\n",
    "</details>\n"
   ]
  },
  {
   "cell_type": "markdown",
   "id": "55a8b274",
   "metadata": {},
   "source": [
    "### Approach 1: Recursion\n",
    "\n",
    "<details>\n",
    "<summary>Time Complexity: O(N)</summary>\n",
    "Reason: \n",
    "</details>\n",
    "<details>\n",
    "<summary>Space Complexity: O(N)</summary>\n",
    "Reason: \n",
    "</details>"
   ]
  },
  {
   "cell_type": "code",
   "execution_count": null,
   "id": "c1f6e494",
   "metadata": {},
   "outputs": [],
   "source": []
  },
  {
   "cell_type": "markdown",
   "id": "d7579abe",
   "metadata": {},
   "source": [
    "### Approach 2: Bit Manipulation\n",
    "\n",
    "<details>\n",
    "<summary>Time Complexity: O(N)</summary>\n",
    "Reason: \n",
    "</details>\n",
    "<details>\n",
    "<summary>Space Complexity: O(N)</summary>\n",
    "Reason: \n",
    "</details>"
   ]
  },
  {
   "cell_type": "code",
   "execution_count": null,
   "id": "f048e6de",
   "metadata": {},
   "outputs": [],
   "source": []
  },
  {
   "cell_type": "markdown",
   "id": "6d81a4a9",
   "metadata": {},
   "source": [
    "\n",
    "---\n",
    "\n",
    "## 2. Generate Power Set\n",
    "\n",
    "*Tags: [#all_subsets]() , [#all_subsequences]()*\\\n",
    "Concepts: \n",
    "<a style=\"color:red\" href=\"https://www.youtube.com/watch?v=LqKaUv1G3_I\">#bit_manipulation</a> | \n",
    "<a style=\"color:red\" href=\"https://www.youtube.com/watch?v=AxNNVECce8c\">#recursion</a> |\\\n",
    "Links: \n",
    "<a style=\"color:yellow\" href=\"https://leetcode.com/problems/subsets/description/\">#lc</a> |\\\n",
    "ATSC: \n",
    "<span style=\"color:green\">(*bit_manipulation*) **O(N)** || **O(1)**</span>\n",
    "\n",
    "<details>\n",
    "<summary>Example</summary>\n",
    "Input: nums = [1,2,3]\n",
    "\n",
    "Output: [[],[1],[2],[1,2],[3],[1,3],[2,3],[1,2,3]]\n",
    "</details>\n"
   ]
  },
  {
   "cell_type": "markdown",
   "id": "ba1f8cb6",
   "metadata": {},
   "source": []
  }
 ],
 "metadata": {
  "kernelspec": {
   "display_name": ".venv",
   "language": "python",
   "name": "python3"
  },
  "language_info": {
   "codemirror_mode": {
    "name": "ipython",
    "version": 3
   },
   "file_extension": ".py",
   "mimetype": "text/x-python",
   "name": "python",
   "nbconvert_exporter": "python",
   "pygments_lexer": "ipython3",
   "version": "3.13.1"
  }
 },
 "nbformat": 4,
 "nbformat_minor": 5
}
