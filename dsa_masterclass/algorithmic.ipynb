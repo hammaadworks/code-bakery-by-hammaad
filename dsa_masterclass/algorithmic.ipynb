# Alhamdulillah Algorithmic Studies
## String Matching Algorithms
1. Knuth Morris Pratt KMP Algorithm
- LPS longest prefix suffix
- O(N+M)
2. Rabin Karp
- Hash Matching Sliding Window
- Improvised