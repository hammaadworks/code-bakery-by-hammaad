{
 "cells": [
  {
   "cell_type": "markdown",
   "id": "43b9898e",
   "metadata": {},
   "source": [
    "bfs\n",
    "level order\n",
    "dfs\n",
    "pre order\n",
    "in order\n",
    "post order\n",
    "\n",
    "top\n",
    "bottom\n",
    "left\n",
    "right\n"
   ]
  }
 ],
 "metadata": {
  "language_info": {
   "name": "python"
  }
 },
 "nbformat": 4,
 "nbformat_minor": 5
}
