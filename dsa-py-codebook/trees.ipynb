{
 "cells": [
  {
   "cell_type": "markdown",
   "id": "34463e67",
   "metadata": {},
   "source": [
    "# TREES"
   ]
  },
  {
   "cell_type": "markdown",
   "id": "7f696c76",
   "metadata": {},
   "source": [
    "### Inserting into a CBT from a list\n",
    "* Building a complete BT\n",
    "* Parent=i :: **Left = 2i+1 && Right = 2i+2**\n",
    "* Eg: [1,2,3,4,5,6]"
   ]
  },
  {
   "cell_type": "code",
   "execution_count": 8,
   "id": "f7b0169f",
   "metadata": {},
   "outputs": [],
   "source": [
    "class node:\n",
    "    def __init__(self,data=None):\n",
    "        self.data=data\n",
    "        self.left=None\n",
    "        self.right=None\n",
    "        \n",
    "class bt_class():\n",
    "    def __init__(self):\n",
    "        self.root=None\n",
    "        \n",
    "    def icbt(self,li,m,root,i=0):\n",
    "        if i<m:\n",
    "            root=node(li[i])\n",
    "            root.left = self.icbt(li,m,root.left,(2*i)+1)\n",
    "            root.right = self.icbt(li,m,root.right,(2*i)+2)\n",
    "            \n",
    "    def pt(self):\n",
    "        if self!=None:\n",
    "            self.rec_pt(self.root)\n",
    "    def rec_pt(self,cur):\n",
    "        if cur!=None:\n",
    "            self.rec_pt(cur.left)\n",
    "            print(cur.data,\"lol\")\n",
    "            self.rec_pt(cur.right)\n",
    "            \n",
    "tree = bt_class()\n",
    "li=[1,2,3,4,5,6,7,8]\n",
    "tree.icbt(li,len(li),tree.root)\n",
    "tree.pt()        "
   ]
  },
  {
   "cell_type": "markdown",
   "id": "eee646ed",
   "metadata": {},
   "source": [
    "### Check whether a BT is a CBT\n",
    "* "
   ]
  },
  {
   "cell_type": "code",
   "execution_count": null,
   "id": "b4110efc",
   "metadata": {},
   "outputs": [],
   "source": []
  },
  {
   "cell_type": "code",
   "execution_count": null,
   "id": "93a4031c",
   "metadata": {},
   "outputs": [],
   "source": []
  },
  {
   "cell_type": "markdown",
   "id": "396925c4",
   "metadata": {},
   "source": [
    "# Binary Search Trees : BST\n",
    "* Smaller on left - Larger on right\n",
    "* Entire Left and Right Subtrees are BST's in and of themselves\n",
    "* Ideally - **!Duplicates** values in BST\n",
    "* If dups allowed then each node is of the form\n",
    "<table><tr><td>TREE-NODE : </td><td>| Data |</td><td>| Frequency |</td></tr></table>\n",
    "* Mostly BST height ~~ (log n) base2 `Search = O(log N) base2`"
   ]
  },
  {
   "cell_type": "code",
   "execution_count": 1,
   "id": "85e1e5e3",
   "metadata": {},
   "outputs": [],
   "source": [
    "class node:\n",
    "    def __init__(self,data=None):\n",
    "        self.left=None\n",
    "        self.right=None\n",
    "        self.data=data"
   ]
  },
  {
   "cell_type": "code",
   "execution_count": 44,
   "id": "8c806741",
   "metadata": {},
   "outputs": [
    {
     "name": "stdout",
     "output_type": "stream",
     "text": [
      "\n",
      "Inserting\n",
      "\n",
      "Printing\n",
      "1\n",
      "2\n",
      "4\n",
      "8\n",
      "9\n",
      "29\n",
      "87\n",
      "89\n",
      "94\n",
      "95\n",
      "98\n",
      "100\n",
      "None\n",
      "\n",
      "Searching\n",
      "<__main__.node object at 0x000001C7F4CC9F10>\n",
      "\n",
      "Ceil\n",
      "98\n"
     ]
    }
   ],
   "source": [
    "class bst:\n",
    "    def __init__(self):\n",
    "        self.root=None\n",
    "    \n",
    "    def ibst(self,data):\n",
    "        # Dont do this coz we're doing recursion\n",
    "        # new = node(data)\n",
    "        if self.root==None:\n",
    "            self.root=node(data)\n",
    "        else:\n",
    "            cur = self.root\n",
    "            while True:\n",
    "                if data>cur.data:\n",
    "                    if cur.right==None:\n",
    "                        cur.right=node(data)\n",
    "                        break\n",
    "                    else:\n",
    "                        cur=cur.right\n",
    "                elif data<cur.data:\n",
    "                    if cur.left==None:\n",
    "                        cur.left=node(data)\n",
    "                        break\n",
    "                    else:\n",
    "                        cur=cur.left\n",
    "                else:\n",
    "                    print('Duplicate Entry')\n",
    "                    break\n",
    "            \n",
    "    def rpt(self,cur):\n",
    "        if cur!=None:\n",
    "            self.rpt(cur.left)\n",
    "            print(cur.data)\n",
    "            self.rpt(cur.right)\n",
    "\n",
    "    def pt(self):\n",
    "        if self.root!=None:\n",
    "            self.rpt(self.root)\n",
    "\n",
    "# Here stop the traversal once found :: return\n",
    "    def search(self,key):\n",
    "        if self.root!=None:\n",
    "            return self.rec_search(self.root,key)\n",
    "    \n",
    "    def rec_search(self,cur,key):\n",
    "        if cur!=None:\n",
    "            if cur.data==key:\n",
    "                return cur\n",
    "            elif key<cur.data:\n",
    "                return self.rec_search(cur.left,key)\n",
    "            else:\n",
    "                return self.rec_search(cur.right,key)\n",
    "            \n",
    "\n",
    "            \n",
    "    def ceil(self,key):\n",
    "        if self!=None:\n",
    "            return self.rec_ceil(self.root,key) # RET : The ceil data\n",
    "        \n",
    "    def rec_ceil(self,cur,key,ceil=None):\n",
    "        if cur!=None:\n",
    "            if cur.data>key or cur.data==key:\n",
    "                ceil = cur.data\n",
    "                return self.rec_ceil(cur.left,key,ceil)\n",
    "            elif cur.data < key:\n",
    "                return self.rec_ceil(cur.right,key,ceil)\n",
    "        return ceil\n",
    "    \n",
    "        \n",
    "tree = bst()\n",
    "a = [1,89,4,9,2,94,95,8,100,29,87,98]\n",
    "print(\"\\nInserting\")\n",
    "for i in a:\n",
    "    tree.ibst(i)\n",
    "print(\"\\nPrinting\")\n",
    "print(tree.pt())\n",
    "print(\"\\nSearching\")\n",
    "print(tree.search(4))\n",
    "print(\"\\nCeil\")\n",
    "print(tree.ceil(98))\n"
   ]
  },
  {
   "cell_type": "markdown",
   "id": "ad3ae5ce",
   "metadata": {},
   "source": [
    "## Inserting in a BST\n",
    "`Pseudo-code`\n",
    "a: if root == None:\n",
    "\n",
    "    create node -> root\n",
    "    \n",
    "b: if data>cur.data\n",
    "\n",
    "    recursively check and insert in the *right subtree*\n",
    "    \n",
    "c: else\n",
    "    \n",
    "    recursively check and insert in the *left subtree*   \n",
    "       \n",
    "d: Return root node\n",
    "\n",
    "`TC : `**O(log N [base2])**\n",
    "`SC : `Iter : **O(1)** Rec:**O(log N [base2])**\n",
    "\n",
    "\n",
    "* [LeetCode](https://leetcode.com/problems/insert-into-a-binary-search-tree/)\n"
   ]
  },
  {
   "cell_type": "code",
   "execution_count": null,
   "id": "a399f455",
   "metadata": {},
   "outputs": [],
   "source": [
    "def i_bst(root,data):\n",
    "    if root==None:\n",
    "        root=node(data)\n",
    "        return root\n",
    "    elif data>=root.data:\n",
    "        return i_bst(root.right,data)\n",
    "    else:\n",
    "        return i_bst(root.left,data)"
   ]
  },
  {
   "cell_type": "markdown",
   "id": "f8f8b6b3",
   "metadata": {},
   "source": [
    "## Search in BST\n",
    "* [LeetCode](https://leetcode.com/problems/search-in-a-binary-search-tree/)\n",
    "* Input - value to be searched {INT}\n",
    "* Output - Node Ref or None"
   ]
  },
  {
   "cell_type": "code",
   "execution_count": 3,
   "id": "7cc831b4",
   "metadata": {},
   "outputs": [],
   "source": [
    "# Here stop the traversal once found :: return\n",
    "    def search(self,key):\n",
    "        if self.root!=None:\n",
    "            return self.rec_search(self.root,key)\n",
    "    \n",
    "    def rec_search(self,cur,key):\n",
    "        if cur!=None:\n",
    "            if cur.data==key:\n",
    "                return cur\n",
    "            elif key<cur.data:\n",
    "                return self.rec_search(cur.left,key)\n",
    "            else:\n",
    "                return self.rec_search(cur.right,key)"
   ]
  },
  {
   "cell_type": "markdown",
   "id": "a886c03a",
   "metadata": {},
   "source": [
    "## Ceil in BST\n",
    "* lowest-data => key `First Largest`\n",
    "* Start from the ROOT\n",
    "\n",
    ">if cur.data => key<br>update ceil<br>move left\n",
    "\n",
    ">if cur.data < key <br>move right"
   ]
  },
  {
   "cell_type": "code",
   "execution_count": null,
   "id": "39a6ddd2",
   "metadata": {},
   "outputs": [],
   "source": [
    "def ceil(self,key):\n",
    "    if self!=None:\n",
    "        return self.rec_ceil(self.root,key) # RET : The ceil data\n",
    "        \n",
    "def rec_ceil(self,cur,key,ceil=None):\n",
    "    if cur!=None:\n",
    "        if cur.data => key:\n",
    "            ceil = cur.data\n",
    "            self.rec_ceil(cur.left,key,ceil)\n",
    "        elif cur.data < key:\n",
    "            self.rec_ceil(cur.right,key,ceil)"
   ]
  },
  {
   "cell_type": "code",
   "execution_count": null,
   "id": "f4ea4058",
   "metadata": {},
   "outputs": [],
   "source": []
  },
  {
   "cell_type": "code",
   "execution_count": null,
   "id": "dd80f7fd",
   "metadata": {},
   "outputs": [],
   "source": []
  },
  {
   "cell_type": "code",
   "execution_count": null,
   "id": "a4e6d3e5",
   "metadata": {},
   "outputs": [],
   "source": []
  },
  {
   "cell_type": "code",
   "execution_count": null,
   "id": "bd7f678f",
   "metadata": {},
   "outputs": [],
   "source": []
  },
  {
   "cell_type": "code",
   "execution_count": null,
   "id": "593b5cdf",
   "metadata": {},
   "outputs": [],
   "source": []
  },
  {
   "cell_type": "code",
   "execution_count": null,
   "id": "1fba39af",
   "metadata": {},
   "outputs": [],
   "source": []
  },
  {
   "cell_type": "code",
   "execution_count": null,
   "id": "5a6b1277",
   "metadata": {},
   "outputs": [],
   "source": []
  },
  {
   "cell_type": "code",
   "execution_count": null,
   "id": "7146aab9",
   "metadata": {},
   "outputs": [],
   "source": []
  },
  {
   "cell_type": "code",
   "execution_count": null,
   "id": "64f27ac8",
   "metadata": {},
   "outputs": [],
   "source": [
    "### Insert into BST"
   ]
  },
  {
   "cell_type": "code",
   "execution_count": null,
   "id": "663562eb",
   "metadata": {},
   "outputs": [],
   "source": [
    "### Search BST"
   ]
  },
  {
   "cell_type": "code",
   "execution_count": 1,
   "id": "65545a74",
   "metadata": {},
   "outputs": [],
   "source": [
    "### Level Order Traversal\n",
    "* Que"
   ]
  },
  {
   "cell_type": "code",
   "execution_count": null,
   "id": "72d6a619",
   "metadata": {},
   "outputs": [],
   "source": [
    "### Vertical Order Traversal\n",
    "* L2R T2B\n",
    "* If Overlap Write Smaller First\n",
    "* Return [List[List]]"
   ]
  },
  {
   "cell_type": "code",
   "execution_count": 2,
   "id": "ae16fff1",
   "metadata": {},
   "outputs": [],
   "source": [
    "### Top View"
   ]
  },
  {
   "cell_type": "code",
   "execution_count": null,
   "id": "d9558da6",
   "metadata": {},
   "outputs": [],
   "source": [
    "### Bottom View"
   ]
  },
  {
   "cell_type": "code",
   "execution_count": null,
   "id": "f687133c",
   "metadata": {},
   "outputs": [],
   "source": [
    "### Left View"
   ]
  },
  {
   "cell_type": "code",
   "execution_count": null,
   "id": "77e4a52e",
   "metadata": {},
   "outputs": [],
   "source": [
    "### Right View"
   ]
  },
  {
   "cell_type": "code",
   "execution_count": null,
   "id": "764f96fe",
   "metadata": {},
   "outputs": [],
   "source": [
    "### Ceil-Floor"
   ]
  },
  {
   "cell_type": "markdown",
   "id": "6d4a39a0",
   "metadata": {},
   "source": [
    "### LCA - Lowest Common Ancestor\n",
    "Simple Traversal - Left Root Right (Inorder)\n",
    ">Returning:\n",
    "\n",
    "- if root == None return None\n",
    "- if root == n1 || n2 --> Return root\n",
    "\n",
    ">Finding:\n",
    "\n",
    "- find left :: find right\n",
    "\n",
    ">Returning:\n",
    "\n",
    "- if left && right return root\n",
    "- if left return left\n",
    "- if right return right"
   ]
  },
  {
   "cell_type": "code",
   "execution_count": 3,
   "id": "e2b292e0",
   "metadata": {},
   "outputs": [],
   "source": [
    "def LCA(root,n1,n2):\n",
    "    \n",
    "    if root is None:\n",
    "        return None\n",
    "    if root.data == n1 or root.data == n2:\n",
    "        return root\n",
    "    \n",
    "    # doward\n",
    "    left = LCA(root.left,n1,n2)\n",
    "    right= LCA(root.right,n1,n2)\n",
    "    \n",
    "    # upward\n",
    "    if left and right:\n",
    "        return root\n",
    "    return left if left is not None else right"
   ]
  },
  {
   "cell_type": "code",
   "execution_count": null,
   "id": "64885ab0",
   "metadata": {},
   "outputs": [],
   "source": []
  }
 ],
 "metadata": {
  "kernelspec": {
   "display_name": "Python 3 (ipykernel)",
   "language": "python",
   "name": "python3"
  },
  "language_info": {
   "codemirror_mode": {
    "name": "ipython",
    "version": 3
   },
   "file_extension": ".py",
   "mimetype": "text/x-python",
   "name": "python",
   "nbconvert_exporter": "python",
   "pygments_lexer": "ipython3",
   "version": "3.9.6"
  }
 },
 "nbformat": 4,
 "nbformat_minor": 5
}
