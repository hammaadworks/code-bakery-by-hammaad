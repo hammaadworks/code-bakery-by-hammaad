{
 "cells": [
  {
   "cell_type": "markdown",
   "id": "22094f2d",
   "metadata": {},
   "source": [
    "# Stacks\n",
    "* LIFO\n",
    "* DEQUE (Deck) and List Implementation"
   ]
  },
  {
   "cell_type": "markdown",
   "id": "7cd91f17",
   "metadata": {},
   "source": [
    "## List Stack"
   ]
  },
  {
   "cell_type": "code",
   "execution_count": null,
   "id": "771610d3",
   "metadata": {},
   "outputs": [],
   "source": [
    "### Top and Display\n",
    "def top(a):\n",
    "    print(a[-1])\n",
    "    \n",
    "def disp(a):\n",
    "    print(a,\"<- Entry\")"
   ]
  },
  {
   "cell_type": "code",
   "execution_count": null,
   "id": "b395723b",
   "metadata": {},
   "outputs": [],
   "source": [
    "### Push in List\n",
    "def push(a,i):\n",
    "    if (type(i) is list):\n",
    "        a.extend(i)\n",
    "    else:\n",
    "        a.append(i)\n",
    "    disp(a)"
   ]
  },
  {
   "cell_type": "code",
   "execution_count": null,
   "id": "68099f67",
   "metadata": {},
   "outputs": [],
   "source": [
    "### Pop from List\n",
    "def pop(a):\n",
    "    if a:\n",
    "        a.pop()\n",
    "        disp(a)\n",
    "    else:\n",
    "        print(\"Underflow\",a)"
   ]
  },
  {
   "cell_type": "code",
   "execution_count": 27,
   "id": "73e00a10",
   "metadata": {},
   "outputs": [
    {
     "name": "stdout",
     "output_type": "stream",
     "text": [
      "Underflow []\n",
      "[1] <- Entry\n",
      "[1, 1, 43, 5, 3, 5] <- Entry\n",
      "[1, 1, 43, 5, 3] <- Entry\n",
      "[1, 1, 43, 5] <- Entry\n",
      "5\n",
      "[1, 1, 43] <- Entry\n"
     ]
    }
   ],
   "source": [
    "class stack:\n",
    "    def __init__(self):\n",
    "        self.stack=[]\n",
    "    \n",
    "    # Insert from left and DEL from left\n",
    "    def push(self,i):\n",
    "        if (type(i) is list):\n",
    "            self.stack.extend(i)\n",
    "        else:\n",
    "            self.stack.append(i)\n",
    "        disp(self.stack)\n",
    "\n",
    "    def pop(self):\n",
    "        if self.stack:\n",
    "            self.stack.pop()\n",
    "            disp(self.stack)\n",
    "        else:\n",
    "            print(\"Underflow\",self.stack)\n",
    "\n",
    "    def top(self):\n",
    "        print(self.stack[-1])\n",
    "\n",
    "    def disp(self):\n",
    "        print(self.stack,\"<- Entry\")\n",
    "    \n",
    "if __name__==\"__main__\":\n",
    "    s1=stack()\n",
    "    s1.pop()\n",
    "    s1.push(1)\n",
    "    s1.push([1,43,5,3,5])\n",
    "    s1.pop()\n",
    "    s1.pop()\n",
    "    s1.top()\n",
    "    s1.pop()"
   ]
  },
  {
   "cell_type": "markdown",
   "id": "6b0d0f62",
   "metadata": {},
   "source": [
    "## Deque Stack\n",
    "* deque(iter,maxlen)\n",
    "* Faster\n",
    "* Methods <br>\n",
    "`append(i) && appendleft(i) --> If full : del from the available side`<br>\n",
    "`extend(i) && extendleft(i) [extend left revz the iterable]`<br>\n",
    "`insert(pos,value)`<br>\n",
    "`pop() && popleft() --> IndexError(Underflow)`<br>\n",
    "`remove(i) --> Del the first occ of i, else ValueError`<br>\n",
    "`rotate(n=1)`<br>\n",
    "`index(elem,start,stop) && count() && copy()`<br>\n",
    "`clear()`"
   ]
  },
  {
   "cell_type": "code",
   "execution_count": 42,
   "id": "ef2c2bea",
   "metadata": {},
   "outputs": [
    {
     "data": {
      "text/plain": [
       "10"
      ]
     },
     "execution_count": 42,
     "metadata": {},
     "output_type": "execute_result"
    }
   ],
   "source": [
    "from collections import deque as dq\n",
    "stack = dq([],10)\n",
    "stack.append('hello')\n",
    "stack.extend([9,5,3,3,3,4,4])\n",
    "stack.extendleft('hello')\n",
    "stack\n",
    "stack.rotate(2)\n",
    "stack\n",
    "stack.append(1)\n",
    "stack.maxlen\n",
    "# stack.insert(0,1)"
   ]
  },
  {
   "cell_type": "code",
   "execution_count": null,
   "id": "90ed8cda",
   "metadata": {},
   "outputs": [],
   "source": []
  }
 ],
 "metadata": {
  "kernelspec": {
   "display_name": "Python 3 (ipykernel)",
   "language": "python",
   "name": "python3"
  },
  "language_info": {
   "codemirror_mode": {
    "name": "ipython",
    "version": 3
   },
   "file_extension": ".py",
   "mimetype": "text/x-python",
   "name": "python",
   "nbconvert_exporter": "python",
   "pygments_lexer": "ipython3",
   "version": "3.9.6"
  }
 },
 "nbformat": 4,
 "nbformat_minor": 5
}
