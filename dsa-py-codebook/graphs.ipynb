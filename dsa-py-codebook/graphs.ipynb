{
 "cells": [
  {
   "cell_type": "markdown",
   "id": "c5fc033f",
   "metadata": {},
   "source": [
    "# Graph"
   ]
  },
  {
   "cell_type": "code",
   "execution_count": null,
   "id": "c8464257",
   "metadata": {},
   "outputs": [],
   "source": [
    "# Structure of Graph\n",
    "nodes = 3\n",
    "edges = [(0,1),(0,2),(1,2)]"
   ]
  },
  {
   "cell_type": "markdown",
   "id": "3916f626",
   "metadata": {},
   "source": [
    "## Representation\n",
    "* Adjecency Matrix\n",
    "* Adjecency List"
   ]
  },
  {
   "cell_type": "markdown",
   "id": "5d504d5b",
   "metadata": {},
   "source": [
    "### Adjecency List"
   ]
  },
  {
   "cell_type": "code",
   "execution_count": 5,
   "id": "0c376e72",
   "metadata": {},
   "outputs": [],
   "source": [
    "class Graph:\n",
    "    def __init__(self, nodes, edges):\n",
    "        self.nodes = nodes\n",
    "        self.adj_list = [[] for _ in range(nodes)]\n",
    "        for n1,n2 in edges:\n",
    "            ## Bidir Graph\n",
    "            self.adj_list[n1].append(n2)\n",
    "            self.adj_list[n2].append(n1)"
   ]
  },
  {
   "cell_type": "code",
   "execution_count": 7,
   "id": "b3288fef",
   "metadata": {},
   "outputs": [
    {
     "name": "stdout",
     "output_type": "stream",
     "text": [
      "[[1, 2], [0, 2], [0, 1]]\n"
     ]
    },
    {
     "data": {
      "text/plain": [
       "<__main__.Graph at 0x2b8b2bda760>"
      ]
     },
     "execution_count": 7,
     "metadata": {},
     "output_type": "execute_result"
    }
   ],
   "source": [
    "g = Graph(3,[(0,1),(0,2),(1,2)])\n",
    "print(g.adj_list)\n",
    "g"
   ]
  },
  {
   "cell_type": "code",
   "execution_count": 20,
   "id": "fb58a7d0",
   "metadata": {},
   "outputs": [
    {
     "data": {
      "text/plain": [
       "['__add__',\n",
       " '__bool__',\n",
       " '__class__',\n",
       " '__class_getitem__',\n",
       " '__contains__',\n",
       " '__copy__',\n",
       " '__delattr__',\n",
       " '__delitem__',\n",
       " '__dir__',\n",
       " '__doc__',\n",
       " '__eq__',\n",
       " '__format__',\n",
       " '__ge__',\n",
       " '__getattribute__',\n",
       " '__getitem__',\n",
       " '__gt__',\n",
       " '__hash__',\n",
       " '__iadd__',\n",
       " '__imul__',\n",
       " '__init__',\n",
       " '__init_subclass__',\n",
       " '__iter__',\n",
       " '__le__',\n",
       " '__len__',\n",
       " '__lt__',\n",
       " '__mul__',\n",
       " '__ne__',\n",
       " '__new__',\n",
       " '__reduce__',\n",
       " '__reduce_ex__',\n",
       " '__repr__',\n",
       " '__reversed__',\n",
       " '__rmul__',\n",
       " '__setattr__',\n",
       " '__setitem__',\n",
       " '__sizeof__',\n",
       " '__str__',\n",
       " '__subclasshook__',\n",
       " 'append',\n",
       " 'appendleft',\n",
       " 'clear',\n",
       " 'copy',\n",
       " 'count',\n",
       " 'extend',\n",
       " 'extendleft',\n",
       " 'index',\n",
       " 'insert',\n",
       " 'maxlen',\n",
       " 'pop',\n",
       " 'popleft',\n",
       " 'remove',\n",
       " 'reverse',\n",
       " 'rotate']"
      ]
     },
     "execution_count": 20,
     "metadata": {},
     "output_type": "execute_result"
    }
   ],
   "source": [
    "from collections import deque\n",
    "def bfs(graph,source):\n",
    "    q=deque()\n",
    "    visited = [False] * len(graph)"
   ]
  },
  {
   "cell_type": "code",
   "execution_count": null,
   "id": "7f59a02b",
   "metadata": {},
   "outputs": [],
   "source": []
  }
 ],
 "metadata": {
  "kernelspec": {
   "display_name": "Python 3 (ipykernel)",
   "language": "python",
   "name": "python3"
  },
  "language_info": {
   "codemirror_mode": {
    "name": "ipython",
    "version": 3
   },
   "file_extension": ".py",
   "mimetype": "text/x-python",
   "name": "python",
   "nbconvert_exporter": "python",
   "pygments_lexer": "ipython3",
   "version": "3.9.6"
  }
 },
 "nbformat": 4,
 "nbformat_minor": 5
}
