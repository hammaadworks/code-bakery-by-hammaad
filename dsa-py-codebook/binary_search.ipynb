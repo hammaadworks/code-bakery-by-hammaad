{
 "cells": [
  {
   "cell_type": "markdown",
   "id": "a1bf4703",
   "metadata": {},
   "source": [
    "# Binary Search\n",
    "\n",
    "> This series contains questions related to Binary Searching.\n",
    "\n",
    "<a target=\"_blank\" href=\"https://colab.research.google.com/github/hammaadworks/code-bakery-by-hammaad/blob/master/dsa-py-codebook/bs.ipynb\">\n",
    "  <img src=\"https://colab.research.google.com/assets/colab-badge.svg\" alt=\"Open In Colab\"/>\n",
    "</a>\n"
   ]
  },
  {
   "cell_type": "markdown",
   "id": "2c0c54e1",
   "metadata": {},
   "source": [
    "\n",
    "---\n",
    "\n",
    "## 1. Generate Power Set\n",
    "\n",
    "*Tags: [#all_subsets]() , [#all_subsequences]()*\\\n",
    "Concepts: \n",
    "<a style=\"color:red\" href=\"https://www.youtube.com/watch?v=LqKaUv1G3_I\">#bit_manipulation</a> | \n",
    "<a style=\"color:red\" href=\"https://www.youtube.com/watch?v=AxNNVECce8c\">#recursion</a> |\\\n",
    "Links: \n",
    "<a style=\"color:yellow\" href=\"https://leetcode.com/problems/subsets/description/\">#lc</a> |\\\n",
    "ATSC: \n",
    "<span style=\"color:green\">(*bit_manipulation*) **O(N)** || **O(1)**</span>\n",
    "\n",
    "<details>\n",
    "<summary>Example</summary>\n",
    "Input: nums = [1,2,3]\n",
    "\n",
    "Output: [[],[1],[2],[1,2],[3],[1,3],[2,3],[1,2,3]]\n",
    "</details>\n"
   ]
  },
  {
   "cell_type": "markdown",
   "id": "55a8b274",
   "metadata": {},
   "source": [
    "### Approach 1: Recursion\n",
    "\n",
    "<details>\n",
    "<summary>Time Complexity: O(N)</summary>\n",
    "Reason: \n",
    "</details>\n",
    "<details>\n",
    "<summary>Space Complexity: O(N)</summary>\n",
    "Reason: \n",
    "</details>"
   ]
  },
  {
   "cell_type": "code",
   "execution_count": null,
   "id": "c1f6e494",
   "metadata": {},
   "outputs": [],
   "source": []
  },
  {
   "cell_type": "markdown",
   "id": "d7579abe",
   "metadata": {},
   "source": [
    "### Approach 2: Bit Manipulation\n",
    "\n",
    "<details>\n",
    "<summary>Time Complexity: O(N)</summary>\n",
    "Reason: \n",
    "</details>\n",
    "<details>\n",
    "<summary>Space Complexity: O(N)</summary>\n",
    "Reason: \n",
    "</details>"
   ]
  },
  {
   "cell_type": "code",
   "execution_count": null,
   "id": "f048e6de",
   "metadata": {},
   "outputs": [],
   "source": []
  },
  {
   "cell_type": "markdown",
   "id": "6d81a4a9",
   "metadata": {},
   "source": [
    "\n",
    "---\n",
    "\n",
    "## 2. Generate Power Set\n",
    "\n",
    "*Tags: [#all_subsets]() , [#all_subsequences]()*\\\n",
    "Concepts: \n",
    "<a style=\"color:red\" href=\"https://www.youtube.com/watch?v=LqKaUv1G3_I\">#bit_manipulation</a> | \n",
    "<a style=\"color:red\" href=\"https://www.youtube.com/watch?v=AxNNVECce8c\">#recursion</a> |\\\n",
    "Links: \n",
    "<a style=\"color:yellow\" href=\"https://leetcode.com/problems/subsets/description/\">#lc</a> |\\\n",
    "ATSC: \n",
    "<span style=\"color:green\">(*bit_manipulation*) **O(N)** || **O(1)**</span>\n",
    "\n",
    "<details>\n",
    "<summary>Example</summary>\n",
    "Input: nums = [1,2,3]\n",
    "\n",
    "Output: [[],[1],[2],[1,2],[3],[1,3],[2,3],[1,2,3]]\n",
    "</details>\n"
   ]
  },
  {
   "cell_type": "markdown",
   "id": "ba1f8cb6",
   "metadata": {},
   "source": []
  }
 ],
 "metadata": {
  "language_info": {
   "name": "python"
  }
 },
 "nbformat": 4,
 "nbformat_minor": 5
}
