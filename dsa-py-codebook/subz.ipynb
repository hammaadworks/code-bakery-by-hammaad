{
 "cells": [
  {
   "cell_type": "markdown",
   "id": "e6664ebb",
   "metadata": {},
   "source": [
    "# All About Subs \n",
    "\n",
    "> This series contains questions related to subsets, substrings, subsequence and all subs in between. Ranging concepts from DP, etc.\n",
    "\n",
    "<a target=\"_blank\" href=\"https://colab.research.google.com/github/hammaadworks/code-bakery-by-hammaad/blob/master/dsa-py-codebook/subz.ipynb\">\n",
    "  <img src=\"https://colab.research.google.com/assets/colab-badge.svg\" alt=\"Open In Colab\"/>\n",
    "</a>\n"
   ]
  },
  {
   "cell_type": "markdown",
   "id": "5441f3fa",
   "metadata": {},
   "source": [
    "\n",
    "---\n",
    "\n",
    "## 1. Generate Power Set\n",
    "\n",
    "*Tags: [#all_subsets]() , [#all_subsequences]()*\\\n",
    "Concepts: \n",
    "<a style=\"color:red\" href=\"https://www.youtube.com/watch?v=LqKaUv1G3_I\">#bit_manipulation</a> | \n",
    "<a style=\"color:red\" href=\"https://www.youtube.com/watch?v=AxNNVECce8c\">#recursion</a> |\\\n",
    "Links: \n",
    "<a style=\"color:yellow\" href=\"https://leetcode.com/problems/subsets/description/\">#lc</a> |\\\n",
    "ATSC: \n",
    "<span style=\"color:green\">(*bit_manipulation*) **O(N)** || **O(1)**</span>\n",
    "\n",
    "<details>\n",
    "<summary>Example</summary>\n",
    "Input: nums = [1,2,3]\n",
    "\n",
    "Output: [[],[1],[2],[1,2],[3],[1,3],[2,3],[1,2,3]]\n",
    "</details>\n"
   ]
  },
  {
   "cell_type": "markdown",
   "id": "0c192075",
   "metadata": {},
   "source": [
    "### Approach 1: Recursion\n",
    "\n",
    "<details>\n",
    "<summary>Time Complexity: O(N)</summary>\n",
    "Reason: \n",
    "</details>\n",
    "<details>\n",
    "<summary>Space Complexity: O(N)</summary>\n",
    "Reason: \n",
    "</details>"
   ]
  },
  {
   "cell_type": "code",
   "execution_count": null,
   "id": "9cd5a7f5",
   "metadata": {},
   "outputs": [],
   "source": []
  },
  {
   "cell_type": "markdown",
   "id": "c6ec8b5a",
   "metadata": {},
   "source": [
    "### Approach 2: Bit Manipulation\n",
    "\n",
    "<details>\n",
    "<summary>Time Complexity: O(N)</summary>\n",
    "Reason: \n",
    "</details>\n",
    "<details>\n",
    "<summary>Space Complexity: O(N)</summary>\n",
    "Reason: \n",
    "</details>"
   ]
  },
  {
   "cell_type": "code",
   "execution_count": null,
   "id": "6e5258c9",
   "metadata": {},
   "outputs": [],
   "source": []
  },
  {
   "cell_type": "markdown",
   "id": "ea3ae568",
   "metadata": {},
   "source": [
    "\n",
    "---\n",
    "\n",
    "## 2. Generate Power Set\n",
    "\n",
    "*Tags: [#all_subsets]() , [#all_subsequences]()*\\\n",
    "Concepts: \n",
    "<a style=\"color:red\" href=\"https://www.youtube.com/watch?v=LqKaUv1G3_I\">#bit_manipulation</a> | \n",
    "<a style=\"color:red\" href=\"https://www.youtube.com/watch?v=AxNNVECce8c\">#recursion</a> |\\\n",
    "Links: \n",
    "<a style=\"color:yellow\" href=\"https://leetcode.com/problems/subsets/description/\">#lc</a> |\\\n",
    "ATSC: \n",
    "<span style=\"color:green\">(*bit_manipulation*) **O(N)** || **O(1)**</span>\n",
    "\n",
    "<details>\n",
    "<summary>Example</summary>\n",
    "Input: nums = [1,2,3]\n",
    "\n",
    "Output: [[],[1],[2],[1,2],[3],[1,3],[2,3],[1,2,3]]\n",
    "</details>\n"
   ]
  },
  {
   "cell_type": "markdown",
   "id": "171e49e4",
   "metadata": {},
   "source": []
  }
 ],
 "metadata": {
  "kernelspec": {
   "display_name": ".venv",
   "language": "python",
   "name": "python3"
  },
  "language_info": {
   "codemirror_mode": {
    "name": "ipython",
    "version": 3
   },
   "file_extension": ".py",
   "mimetype": "text/x-python",
   "name": "python",
   "nbconvert_exporter": "python",
   "pygments_lexer": "ipython3",
   "version": "3.13.1"
  }
 },
 "nbformat": 4,
 "nbformat_minor": 5
}
