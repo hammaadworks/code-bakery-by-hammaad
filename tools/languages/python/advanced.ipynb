{
 "cells": [
  {
   "cell_type": "markdown",
   "metadata": {},
   "source": [
    "# Advanced Python\n",
    "> Learning new and cool stuff about Python or just programming concepts in general."
   ]
  },
  {
   "cell_type": "markdown",
   "metadata": {},
   "source": [
    "# 1. Decorators\n",
    "\n",
    "## ✅ What is a Decorator?\n",
    "- A **decorator** is a **higher-order function** that \n",
    "- `enhances the behaviour of a function without changing it's core.`\n",
    "- **takes a function** as input\n",
    "- **returns a new function** with enhanced behavior.\n",
    "- Based on two core Python features:\n",
    "  - **Functions are first-class objects**\n",
    "  - **Closures** (functions can remember the enclosing scope)\n",
    "- Follows `Open-Closed Principle`\n",
    "> Analogy: Plain Donut, decorated with chocolate glazing, plus decorated with sprinkles.\n",
    "> ```py\n",
    "> @sprinkles\n",
    "> @glazing(\"chocolate\")\n",
    "> def donut():\n",
    ">   pass\n",
    "> ``` \n",
    "\n",
    "## 🧩 Key Concepts\n",
    "- `Higher-order functions`: A function that accepts or returns another function.\n",
    "- `Closures`: The returned wrapper function retains access to variables in its outer scope (like the original `func`).\n",
    "- `Decorator Factory:` function that returns a decorator allowing dynamic argument passing.\n",
    "- `Chaining multiple decorators`: Apply top-down, execute bottom-up\n",
    "- `Function identity loss`: Without precautions, decorators overwrite the function's metadata (`__name__`, `__doc__`, etc.)\n",
    "\n",
    "## 🔧 functools.wraps\n",
    "- Use `@wraps(func)` from `functools` to **preserve metadata** of the original function.\n",
    "- Ensures tools like `help()`, `inspect`, unit tests, and doc tools work correctly.\n",
    "\n",
    "## 🧪 Common Use Cases\n",
    "- ✅ AOP (aspect oriented programming)\n",
    "- ✅ Logging\n",
    "- ✅ Access control / auth checks\n",
    "- ✅ Input validation\n",
    "- ✅ Caching / memoization\n",
    "- ✅ Timing & benchmarking\n",
    "- ✅ Rate limiting & Retry policies\n",
    "\n",
    "## 🌍 Real world examples\n",
    "- `@property`\n",
    "- `@private_variable.setter`\n",
    "- `@private_variable.deleter`\n",
    "- `@private_variable.getter`\n",
    "- `@staticmethod`\n",
    "- `@classmethod`\n",
    "- `@functools.cache`\n",
    "- `@dataclasses.dataclass`: implements *__init__, __eq__ and __repr__ implicitly*\n"
   ]
  },
  {
   "cell_type": "code",
   "execution_count": null,
   "metadata": {},
   "outputs": [],
   "source": [
    "# Anatomy of a decorator\n",
    "from functools import wraps\n",
    "\n",
    "def decorator(func):\n",
    "    @wraps(func)\n",
    "    def wrapper(*args, **kwargs):\n",
    "        # pre-processing\n",
    "        result = func(*args, **kwargs)\n",
    "        # post-processing\n",
    "        return result\n",
    "    return wrapper\n",
    "\n",
    "# Equivalent to:  \n",
    "# function = decorator_name(function)"
   ]
  },
  {
   "cell_type": "markdown",
   "metadata": {},
   "source": [
    "## 🔁 Variants\n",
    "1. Class Decorators\n",
    "2. Function Decorators\n",
    "3. **`Decorator Factory:` with arguments**:\n",
    "  - what: function that `returns a decorator`\n",
    "  - why: allowing you to `pass arguments to the decorator` itself.\n",
    "  - where: retries, rate-limit, logging, role-checking, access control\n",
    "  - how: `factory → decorator → wrapper → func()`"
   ]
  },
  {
   "cell_type": "code",
   "execution_count": 19,
   "metadata": {},
   "outputs": [
    {
     "name": "stdout",
     "output_type": "stream",
     "text": [
      "vanilla\n",
      "10\n"
     ]
    }
   ],
   "source": [
    "class Donut:\n",
    "    def __init__(self, flavor):\n",
    "        self._flavor = flavor\n",
    "\n",
    "    @property\n",
    "    def flavor(self):\n",
    "        # getter method\n",
    "        return self._flavor\n",
    "\n",
    "    @flavor.setter\n",
    "    def flavor(self, value):\n",
    "        self._flavor = value\n",
    "\n",
    "    @flavor.deleter\n",
    "    def flavor(self):\n",
    "        del self._flavor\n",
    "    \n",
    "d = Donut(\"vanilla\")\n",
    "print(d.flavor)\n",
    "d.flavor = 10\n",
    "print(d.flavor)\n",
    "del d.flavor"
   ]
  }
 ],
 "metadata": {
  "kernelspec": {
   "display_name": ".venv",
   "language": "python",
   "name": "python3"
  },
  "language_info": {
   "codemirror_mode": {
    "name": "ipython",
    "version": 3
   },
   "file_extension": ".py",
   "mimetype": "text/x-python",
   "name": "python",
   "nbconvert_exporter": "python",
   "pygments_lexer": "ipython3",
   "version": "3.12.0"
  }
 },
 "nbformat": 4,
 "nbformat_minor": 2
}
