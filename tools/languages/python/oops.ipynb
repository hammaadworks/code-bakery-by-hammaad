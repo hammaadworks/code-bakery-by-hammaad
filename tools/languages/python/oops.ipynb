{
 "cells": [
  {
   "cell_type": "markdown",
   "id": "f51b4344",
   "metadata": {},
   "source": [
    "# Pydantic\n",
    "## Python type annotations"
   ]
  },
  {
   "cell_type": "code",
   "execution_count": null,
   "id": "c9675514",
   "metadata": {},
   "outputs": [],
   "source": []
  },
  {
   "cell_type": "code",
   "execution_count": null,
   "id": "e7c40019",
   "metadata": {},
   "outputs": [],
   "source": []
  },
  {
   "cell_type": "code",
   "execution_count": null,
   "id": "ea50fd98",
   "metadata": {},
   "outputs": [],
   "source": []
  },
  {
   "cell_type": "code",
   "execution_count": null,
   "id": "2bc7d28b",
   "metadata": {},
   "outputs": [],
   "source": []
  },
  {
   "cell_type": "code",
   "execution_count": null,
   "id": "6ab2de4d",
   "metadata": {},
   "outputs": [],
   "source": [
    "class TreeNode:\n",
    "    def __init__(self, data):\n",
    "        self.data = data\n",
    "        self.left = None\n",
    "        self.right = None\n",
    "        \n",
    "tree = TreeNode(5)\n",
    "print(tree)"
   ]
  },
  {
   "cell_type": "markdown",
   "id": "1c38812e",
   "metadata": {},
   "source": [
    "everything in Python is an object\n",
    "imp of oop - Abstraction, you dont need to know how append() method is implemented\n",
    "example of class = cookie mould \n",
    "example of object = cookie and customized cookies\n",
    "self <- reference of the obj that calls this method\n",
    "Eg. \n",
    "obj.method() ==> class.method(obj) ==> self\n",
    "getters and setters are not so required in Python\n",
    "Instead use @property decorator\n"
   ]
  },
  {
   "cell_type": "markdown",
   "id": "3e149f87",
   "metadata": {},
   "source": [
    "Instance variables and Class Variables\n",
    "Class Variables\n",
    "- same for all instances\n",
    "- objects and class can access these class variables\n",
    "- it only gets showed on class.__dict__ not in ~obj.__dict__~\n",
    "\n",
    "Regular Methods, Instance Methods and Class Methods\n",
    "Regular Methods - take reference of the obj\n",
    "EG `def add(self):`\n",
    "\n",
    "Class Methods- pass the reference of class\n",
    "- decorator `@classmethod`\n",
    "EG`@classmethod\n",
    "def set_amount(cls, amount):\n",
    "so we can call\n",
    "class.set_amount(8) or obj.set_amount(8)\n",
    "this will change the class variables`\n",
    "- class methods can be used as __**ALTERNATIVE CONSTRUCTORS**__\n",
    "```\n",
    "class Person:\n",
    "    def __init__(self, name, gender):\n",
    "    self.name = name\n",
    "    self.gender = gender\n",
    "    \n",
    "    @classmethod\n",
    "    def from_string(cls, person_string):\n",
    "        name, gender = person_string.split('-') // get valz from string\n",
    "        return cls(name, gender) // this is the constructor __init__ call\n",
    "person1 = Person.from_string('ABCXYZ-Male')\n",
    "```\n",
    "\n",
    "Static Methods - dont pass anything as reference ~reference~\n",
    "- use them when you are not refering class or object i.e. when this method is independent of class/obj\n",
    "```\n",
    "@staticmethod\n",
    "def is_workday(day):\n",
    "    if day.weekday() in [5,6]:\n",
    "        return False\n",
    "    retrun True\n",
    "    \n",
    "import datetime\n",
    "day = datetime.date(yyyy, m, d)\n",
    "class.is_workday(day)\n",
    "```\n",
    "\n"
   ]
  },
  {
   "cell_type": "code",
   "execution_count": null,
   "id": "11fb5d7b",
   "metadata": {},
   "outputs": [],
   "source": [
    "from turtle import Turtle as T\n",
    "from random import *\n",
    "\n",
    "class newTurtle:\n",
    "    def __init__(self, color, pen_color, shape, y_pos):\n",
    "        self.color = color\n",
    "        self.pen_color = pen_color\n",
    "        self.shape = shape\n",
    "        self.y_pos = y_pos\n",
    "        \n",
    "    def createPlayers(self):\n",
    "        t = T()\n",
    "        t.color(self.color)\n",
    "        t.shape(self.shape)\n",
    "        t.pencolor(self.pen_color)\n",
    "        t.penup()\n",
    "        t.goto(-160, self.y_pos)\n",
    "        t.pendown()\n",
    "        t.forward(30)\n",
    "        return t\n",
    "\n",
    "def move(tz):\n",
    "    for i in tz:\n",
    "        tz[i].forward(randint(1,5))\n",
    "        if tz[i].position()[0] >= 150:\n",
    "            return i.color\n",
    "\n",
    "winner = None\n",
    "t1 = newTurtle('red', 'red', 'arrow', 60)\n",
    "t2 = newTurtle('green', 'green', 'turtle', -60)\n",
    "t3 = newTurtle('blue', 'blue', 'circle', 180)\n",
    "t4 = newTurtle('yellow', 'yellow', 'square', -180)\n",
    "turtles = {t1: t1.createPlayers(), t2: t2.createPlayers(), t3: t3.createPlayers(), t4: t4.createPlayers()}\n",
    "\n",
    "while winner == None:\n",
    "    winner = move(turtles)\n",
    "    \n",
    "print(winner)"
   ]
  },
  {
   "cell_type": "code",
   "execution_count": null,
   "id": "926d2c44",
   "metadata": {},
   "outputs": [],
   "source": []
  },
  {
   "cell_type": "code",
   "execution_count": null,
   "id": "b250246a",
   "metadata": {},
   "outputs": [],
   "source": []
  }
 ],
 "metadata": {
  "kernelspec": {
   "display_name": "Python 3 (ipykernel)",
   "language": "python",
   "name": "python3"
  },
  "language_info": {
   "codemirror_mode": {
    "name": "ipython",
    "version": 3
   },
   "file_extension": ".py",
   "mimetype": "text/x-python",
   "name": "python",
   "nbconvert_exporter": "python",
   "pygments_lexer": "ipython3",
   "version": "3.10.5"
  }
 },
 "nbformat": 4,
 "nbformat_minor": 5
}
