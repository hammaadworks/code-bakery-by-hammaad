{
 "cells": [
  {
   "cell_type": "code",
   "execution_count": null,
   "id": "b5511ff9",
   "metadata": {},
   "outputs": [],
   "source": [
    "#"
   ]
  },
  {
   "cell_type": "code",
   "execution_count": null,
   "id": "6cc815df",
   "metadata": {},
   "outputs": [],
   "source": []
  },
  {
   "cell_type": "code",
   "execution_count": null,
   "id": "8cdbeb13",
   "metadata": {},
   "outputs": [],
   "source": []
  },
  {
   "cell_type": "code",
   "execution_count": null,
   "id": "32782c56",
   "metadata": {},
   "outputs": [],
   "source": []
  },
  {
   "cell_type": "code",
   "execution_count": null,
   "id": "02fd795f",
   "metadata": {},
   "outputs": [],
   "source": []
  },
  {
   "cell_type": "code",
   "execution_count": null,
   "id": "bb9dd890",
   "metadata": {},
   "outputs": [],
   "source": []
  },
  {
   "cell_type": "markdown",
   "id": "8856ce9f",
   "metadata": {},
   "source": [
    "# SqlAlchemy and SqlModel\n",
    "## Python ORM for db interactions\n",
    "- Engine = dialect + DBAPI // location of DB\n",
    "- Lazy initialization - meaning conn is active when the first task is performed\n",
    "- Connectivity to the DB via .connect()\n",
    "- Text is a way to run _STRING SQL QUERIES_\n",
    "- Session is same as connection (connect/begin) just with ORM constructs"
   ]
  },
  {
   "cell_type": "code",
   "execution_count": null,
   "id": "35f57234",
   "metadata": {},
   "outputs": [],
   "source": [
    "from sqlalchemy import create_engine, text\n",
    "from sqlalchemy.orm import Session\n",
    "# ENGINE a global object created just once for a particular database server\n",
    "db_engine = create_engine(\"sqlite+pysqlite:///:memory:\", echo=True, future=True)\n",
    "with db_engine.connect() as conn:\n",
    "    conn.execute(text(\"create table sqla_table (id int, name varchar, price int, kitchen boolean)\"))\n",
    "    conn.commit()"
   ]
  },
  {
   "cell_type": "code",
   "execution_count": null,
   "id": "bb9fbac8",
   "metadata": {},
   "outputs": [],
   "source": [
    "with db_engine.begin() as conn:\n",
    "    conn.execute(text(\"Insert into sqla_table values (:id, :name, :price, :kitchen)\").bindparams(id=4,name=\"Mouse\",price=400,kitchen=False))\n",
    "#     conn.execute(text(\"delete from sqla_table\"))"
   ]
  },
  {
   "cell_type": "code",
   "execution_count": null,
   "id": "014db4ec",
   "metadata": {},
   "outputs": [],
   "source": [
    "# Mapping relations in queries:: passing in parameters\n",
    "# :var , {var: value} OR .bindparams(var=value) __only on case of text__\n",
    "with db_engine.begin() as conn:\n",
    "    result = conn.execute(text(\"select * from sqla_table where price> :query_price\"), {\"query_price\": 48})\n",
    "    for row in result:\n",
    "        print(row)\n",
    "        \n",
    "with Session(db_engine) as sess:\n",
    "    result = sess.execute(text(\"select * from sqla_table where price> :query_price\").bindparams(query_price=20))\n",
    "    for row in result:\n",
    "        print(row)"
   ]
  },
  {
   "cell_type": "code",
   "execution_count": null,
   "id": "329923ea",
   "metadata": {},
   "outputs": [],
   "source": []
  },
  {
   "cell_type": "code",
   "execution_count": null,
   "id": "575798f7",
   "metadata": {},
   "outputs": [],
   "source": []
  },
  {
   "cell_type": "code",
   "execution_count": null,
   "id": "ebae1274",
   "metadata": {},
   "outputs": [],
   "source": []
  },
  {
   "cell_type": "code",
   "execution_count": null,
   "id": "41d423f5",
   "metadata": {},
   "outputs": [],
   "source": []
  },
  {
   "cell_type": "code",
   "execution_count": null,
   "id": "fd6007d0",
   "metadata": {},
   "outputs": [],
   "source": []
  },
  {
   "cell_type": "code",
   "execution_count": null,
   "id": "9ff27195",
   "metadata": {},
   "outputs": [],
   "source": []
  },
  {
   "cell_type": "code",
   "execution_count": null,
   "id": "e4654dad",
   "metadata": {},
   "outputs": [],
   "source": [
    "import sqlite3 as db\n",
    "\n",
    "# Create a DataBase (connect)\n",
    "# Refer existing or create a new db\n",
    "\n",
    "# The in memory sqlite-db\n",
    "con_mem = db.connect(':memory:')\n",
    "\n",
    "# This is persistant\n",
    "con = db.connect('sample.db')"
   ]
  },
  {
   "cell_type": "code",
   "execution_count": null,
   "id": "f5c4bbba",
   "metadata": {},
   "outputs": [],
   "source": [
    "# Cursor tells sql-db what to do (cursor)\n",
    "cur = con.cursor()"
   ]
  },
  {
   "cell_type": "markdown",
   "id": "95dbd0fc",
   "metadata": {},
   "source": [
    "## Data Types in SQLite\n",
    "* NULL\n",
    "* INT\n",
    "* REAL\n",
    "* TEXT\n",
    "* BLOB"
   ]
  },
  {
   "cell_type": "code",
   "execution_count": null,
   "id": "27603a3c",
   "metadata": {},
   "outputs": [],
   "source": [
    "# Execute anything using execute through a cursor\n",
    "cur.execute('''create table if not exists customer(name varchar(5), age int(3))''')\n",
    "\n",
    "# Commit is important\n",
    "con.commit()\n",
    "\n",
    "# Close that conn\n",
    "con.close()"
   ]
  },
  {
   "cell_type": "markdown",
   "id": "5d03fa3a",
   "metadata": {},
   "source": [
    ">Insert 1 value into the db"
   ]
  },
  {
   "cell_type": "code",
   "execution_count": null,
   "id": "cfbee3b4",
   "metadata": {},
   "outputs": [],
   "source": [
    "con = db.connect('sample.db')\n",
    "c=con.cursor()\n",
    "c.execute('''insert into customer values ('HI',99)''')\n",
    "c.execute('''select * from customer''')\n",
    "c.fetchall()"
   ]
  },
  {
   "cell_type": "markdown",
   "id": "85152f8a",
   "metadata": {},
   "source": [
    "> Insert many values in the database"
   ]
  },
  {
   "cell_type": "code",
   "execution_count": null,
   "id": "7d6e442e",
   "metadata": {},
   "outputs": [],
   "source": [
    "many_values = [('m1',98),('m2',92),('m3',96),('m4',93)]\n",
    "c.executemany(\"insert into customer values (?,?)\", many_values)\n",
    "con.commit()\n",
    "c.execute('''select * from customer''')\n",
    "\n",
    "print(c.fetchone())\n",
    "print(c.fetchmany(4))\n",
    "print(c.fetchall())\n",
    "\n",
    "c.execute('''delete from customer''')\n",
    "c.execute('''select * from customer''')\n",
    "\n",
    "print(c.fetchone())\n",
    "print(c.fetchmany(4))\n",
    "print(c.fetchall())"
   ]
  },
  {
   "cell_type": "code",
   "execution_count": null,
   "id": "bdccad24",
   "metadata": {},
   "outputs": [],
   "source": [
    "con.commit()\n",
    "con.close()"
   ]
  },
  {
   "cell_type": "code",
   "execution_count": null,
   "id": "412a2d96",
   "metadata": {},
   "outputs": [],
   "source": [
    "# con = db.connect('sample.db')\n",
    "# c=con.cursor()\n",
    "# c.execute('''\n",
    "# select name \n",
    "# from sqlite_master \n",
    "# where type='table'and name not like 'sqlite_%' ''')"
   ]
  },
  {
   "cell_type": "code",
   "execution_count": null,
   "id": "0c6d37a5",
   "metadata": {},
   "outputs": [],
   "source": []
  }
 ],
 "metadata": {
  "kernelspec": {
   "display_name": "Python 3 (ipykernel)",
   "language": "python",
   "name": "python3"
  },
  "language_info": {
   "codemirror_mode": {
    "name": "ipython",
    "version": 3
   },
   "file_extension": ".py",
   "mimetype": "text/x-python",
   "name": "python",
   "nbconvert_exporter": "python",
   "pygments_lexer": "ipython3",
   "version": "3.10.5"
  }
 },
 "nbformat": 4,
 "nbformat_minor": 5
}
